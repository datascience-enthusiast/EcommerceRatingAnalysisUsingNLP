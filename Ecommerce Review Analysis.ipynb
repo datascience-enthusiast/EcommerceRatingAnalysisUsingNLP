{
 "cells": [
  {
   "cell_type": "code",
   "execution_count": 2,
   "metadata": {},
   "outputs": [],
   "source": [
    "import numpy as np\n",
    "import pandas as pd\n",
    "\n",
    "import matplotlib.pyplot as plt\n",
    "import seaborn as sns\n",
    "\n",
    "from sklearn.feature_extraction.text import CountVectorizer, TfidfVectorizer\n",
    "from sklearn.decomposition import NMF, TruncatedSVD"
   ]
  },
  {
   "cell_type": "code",
   "execution_count": 3,
   "metadata": {},
   "outputs": [
    {
     "data": {
      "text/html": [
       "<div>\n",
       "<style scoped>\n",
       "    .dataframe tbody tr th:only-of-type {\n",
       "        vertical-align: middle;\n",
       "    }\n",
       "\n",
       "    .dataframe tbody tr th {\n",
       "        vertical-align: top;\n",
       "    }\n",
       "\n",
       "    .dataframe thead th {\n",
       "        text-align: right;\n",
       "    }\n",
       "</style>\n",
       "<table border=\"1\" class=\"dataframe\">\n",
       "  <thead>\n",
       "    <tr style=\"text-align: right;\">\n",
       "      <th></th>\n",
       "      <th>Unnamed: 0</th>\n",
       "      <th>Clothing ID</th>\n",
       "      <th>Age</th>\n",
       "      <th>Title</th>\n",
       "      <th>Review Text</th>\n",
       "      <th>Rating</th>\n",
       "      <th>Recommended IND</th>\n",
       "      <th>Positive Feedback Count</th>\n",
       "      <th>Division Name</th>\n",
       "      <th>Department Name</th>\n",
       "      <th>Class Name</th>\n",
       "    </tr>\n",
       "  </thead>\n",
       "  <tbody>\n",
       "    <tr>\n",
       "      <th>0</th>\n",
       "      <td>0</td>\n",
       "      <td>767</td>\n",
       "      <td>33</td>\n",
       "      <td>NaN</td>\n",
       "      <td>Absolutely wonderful - silky and sexy and comf...</td>\n",
       "      <td>4</td>\n",
       "      <td>1</td>\n",
       "      <td>0</td>\n",
       "      <td>Initmates</td>\n",
       "      <td>Intimate</td>\n",
       "      <td>Intimates</td>\n",
       "    </tr>\n",
       "    <tr>\n",
       "      <th>1</th>\n",
       "      <td>1</td>\n",
       "      <td>1080</td>\n",
       "      <td>34</td>\n",
       "      <td>NaN</td>\n",
       "      <td>Love this dress!  it's sooo pretty.  i happene...</td>\n",
       "      <td>5</td>\n",
       "      <td>1</td>\n",
       "      <td>4</td>\n",
       "      <td>General</td>\n",
       "      <td>Dresses</td>\n",
       "      <td>Dresses</td>\n",
       "    </tr>\n",
       "    <tr>\n",
       "      <th>2</th>\n",
       "      <td>2</td>\n",
       "      <td>1077</td>\n",
       "      <td>60</td>\n",
       "      <td>Some major design flaws</td>\n",
       "      <td>I had such high hopes for this dress and reall...</td>\n",
       "      <td>3</td>\n",
       "      <td>0</td>\n",
       "      <td>0</td>\n",
       "      <td>General</td>\n",
       "      <td>Dresses</td>\n",
       "      <td>Dresses</td>\n",
       "    </tr>\n",
       "    <tr>\n",
       "      <th>3</th>\n",
       "      <td>3</td>\n",
       "      <td>1049</td>\n",
       "      <td>50</td>\n",
       "      <td>My favorite buy!</td>\n",
       "      <td>I love, love, love this jumpsuit. it's fun, fl...</td>\n",
       "      <td>5</td>\n",
       "      <td>1</td>\n",
       "      <td>0</td>\n",
       "      <td>General Petite</td>\n",
       "      <td>Bottoms</td>\n",
       "      <td>Pants</td>\n",
       "    </tr>\n",
       "    <tr>\n",
       "      <th>4</th>\n",
       "      <td>4</td>\n",
       "      <td>847</td>\n",
       "      <td>47</td>\n",
       "      <td>Flattering shirt</td>\n",
       "      <td>This shirt is very flattering to all due to th...</td>\n",
       "      <td>5</td>\n",
       "      <td>1</td>\n",
       "      <td>6</td>\n",
       "      <td>General</td>\n",
       "      <td>Tops</td>\n",
       "      <td>Blouses</td>\n",
       "    </tr>\n",
       "  </tbody>\n",
       "</table>\n",
       "</div>"
      ],
      "text/plain": [
       "   Unnamed: 0  Clothing ID  Age                    Title  \\\n",
       "0           0          767   33                      NaN   \n",
       "1           1         1080   34                      NaN   \n",
       "2           2         1077   60  Some major design flaws   \n",
       "3           3         1049   50         My favorite buy!   \n",
       "4           4          847   47         Flattering shirt   \n",
       "\n",
       "                                         Review Text  Rating  Recommended IND  \\\n",
       "0  Absolutely wonderful - silky and sexy and comf...       4                1   \n",
       "1  Love this dress!  it's sooo pretty.  i happene...       5                1   \n",
       "2  I had such high hopes for this dress and reall...       3                0   \n",
       "3  I love, love, love this jumpsuit. it's fun, fl...       5                1   \n",
       "4  This shirt is very flattering to all due to th...       5                1   \n",
       "\n",
       "   Positive Feedback Count   Division Name Department Name Class Name  \n",
       "0                        0       Initmates        Intimate  Intimates  \n",
       "1                        4         General         Dresses    Dresses  \n",
       "2                        0         General         Dresses    Dresses  \n",
       "3                        0  General Petite         Bottoms      Pants  \n",
       "4                        6         General            Tops    Blouses  "
      ]
     },
     "execution_count": 3,
     "metadata": {},
     "output_type": "execute_result"
    }
   ],
   "source": [
    "# load the dataset.\n",
    "df = pd.read_csv('/opt/ShadData/NLP/Womens Clothing E-Commerce Reviews.csv')\n",
    "df.head()"
   ]
  },
  {
   "cell_type": "code",
   "execution_count": 4,
   "metadata": {},
   "outputs": [
    {
     "data": {
      "text/plain": [
       "Index(['Unnamed: 0', 'Clothing ID', 'Age', 'Title', 'Review Text', 'Rating',\n",
       "       'Recommended IND', 'Positive Feedback Count', 'Division Name',\n",
       "       'Department Name', 'Class Name'],\n",
       "      dtype='object')"
      ]
     },
     "execution_count": 4,
     "metadata": {},
     "output_type": "execute_result"
    }
   ],
   "source": [
    "# list of column names.\n",
    "df.columns"
   ]
  },
  {
   "cell_type": "code",
   "execution_count": 5,
   "metadata": {},
   "outputs": [
    {
     "data": {
      "text/plain": [
       "(23486, 11)"
      ]
     },
     "execution_count": 5,
     "metadata": {},
     "output_type": "execute_result"
    }
   ],
   "source": [
    "# there are 23486 rows and 11 columns.\n",
    "df.shape"
   ]
  },
  {
   "cell_type": "code",
   "execution_count": 6,
   "metadata": {},
   "outputs": [],
   "source": [
    "# take out the 'Unnamed: 0' and 'Clothing ID' column.\n",
    "# don't think they will be useful for my analysis.\n",
    "df = df.drop(['Unnamed: 0', 'Clothing ID'], axis=1)\n"
   ]
  },
  {
   "cell_type": "code",
   "execution_count": 7,
   "metadata": {},
   "outputs": [],
   "source": [
    "# clean the white space from the column names.\n",
    "df = df.rename(columns=lambda x: x.replace(' ', ''))"
   ]
  },
  {
   "cell_type": "code",
   "execution_count": 8,
   "metadata": {},
   "outputs": [
    {
     "name": "stdout",
     "output_type": "stream",
     "text": [
      "<class 'pandas.core.frame.DataFrame'>\n",
      "RangeIndex: 23486 entries, 0 to 23485\n",
      "Data columns (total 9 columns):\n",
      "Age                      23486 non-null int64\n",
      "Title                    19676 non-null object\n",
      "ReviewText               22641 non-null object\n",
      "Rating                   23486 non-null int64\n",
      "RecommendedIND           23486 non-null int64\n",
      "PositiveFeedbackCount    23486 non-null int64\n",
      "DivisionName             23472 non-null object\n",
      "DepartmentName           23472 non-null object\n",
      "ClassName                23472 non-null object\n",
      "dtypes: int64(4), object(5)\n",
      "memory usage: 1.6+ MB\n"
     ]
    }
   ],
   "source": [
    "df.info()"
   ]
  },
  {
   "cell_type": "code",
   "execution_count": 9,
   "metadata": {},
   "outputs": [
    {
     "data": {
      "text/plain": [
       "Age                       0.000000\n",
       "Title                    16.222430\n",
       "ReviewText                3.597888\n",
       "Rating                    0.000000\n",
       "RecommendedIND            0.000000\n",
       "PositiveFeedbackCount     0.000000\n",
       "DivisionName              0.059610\n",
       "DepartmentName            0.059610\n",
       "ClassName                 0.059610\n",
       "dtype: float64"
      ]
     },
     "execution_count": 9,
     "metadata": {},
     "output_type": "execute_result"
    }
   ],
   "source": [
    "# Missing value percentage\n",
    "df.isnull().sum() / df.shape[0] * 100 "
   ]
  },
  {
   "cell_type": "code",
   "execution_count": 10,
   "metadata": {},
   "outputs": [
    {
     "name": "stdout",
     "output_type": "stream",
     "text": [
      "Now length of df is:  22628\n"
     ]
    }
   ],
   "source": [
    "# dorpping NAs for 4 columns.\n",
    "subset = ['ReviewText', 'DivisionName', 'DepartmentName', 'ClassName']\n",
    "df = df.dropna(subset=subset)\n",
    "\n",
    "print('Now length of df is: ', len(df))"
   ]
  },
  {
   "cell_type": "code",
   "execution_count": 11,
   "metadata": {},
   "outputs": [],
   "source": [
    "# first fill NAs in the Title column with space, so I can concatenate the Title and ReviewText column together.\n",
    "df.Title.fillna('', inplace=True)\n",
    "\n",
    "# create a new column named CombinedText with Title and ReviewText.\n",
    "df['CombinedText'] = df.Title + ' ' + df.ReviewText\n",
    "\n",
    "# drop the Title column.\n",
    "df.drop('Title', axis=1, inplace=True)"
   ]
  },
  {
   "cell_type": "code",
   "execution_count": 12,
   "metadata": {},
   "outputs": [
    {
     "data": {
      "text/html": [
       "<div>\n",
       "<style scoped>\n",
       "    .dataframe tbody tr th:only-of-type {\n",
       "        vertical-align: middle;\n",
       "    }\n",
       "\n",
       "    .dataframe tbody tr th {\n",
       "        vertical-align: top;\n",
       "    }\n",
       "\n",
       "    .dataframe thead th {\n",
       "        text-align: right;\n",
       "    }\n",
       "</style>\n",
       "<table border=\"1\" class=\"dataframe\">\n",
       "  <thead>\n",
       "    <tr style=\"text-align: right;\">\n",
       "      <th></th>\n",
       "      <th>Age</th>\n",
       "      <th>Rating</th>\n",
       "      <th>RecommendedIND</th>\n",
       "      <th>PositiveFeedbackCount</th>\n",
       "    </tr>\n",
       "  </thead>\n",
       "  <tbody>\n",
       "    <tr>\n",
       "      <th>count</th>\n",
       "      <td>22628.000000</td>\n",
       "      <td>22628.000000</td>\n",
       "      <td>22628.000000</td>\n",
       "      <td>22628.000000</td>\n",
       "    </tr>\n",
       "    <tr>\n",
       "      <th>mean</th>\n",
       "      <td>43.282880</td>\n",
       "      <td>4.183092</td>\n",
       "      <td>0.818764</td>\n",
       "      <td>2.631784</td>\n",
       "    </tr>\n",
       "    <tr>\n",
       "      <th>std</th>\n",
       "      <td>12.328176</td>\n",
       "      <td>1.115911</td>\n",
       "      <td>0.385222</td>\n",
       "      <td>5.787520</td>\n",
       "    </tr>\n",
       "    <tr>\n",
       "      <th>min</th>\n",
       "      <td>18.000000</td>\n",
       "      <td>1.000000</td>\n",
       "      <td>0.000000</td>\n",
       "      <td>0.000000</td>\n",
       "    </tr>\n",
       "    <tr>\n",
       "      <th>25%</th>\n",
       "      <td>34.000000</td>\n",
       "      <td>4.000000</td>\n",
       "      <td>1.000000</td>\n",
       "      <td>0.000000</td>\n",
       "    </tr>\n",
       "    <tr>\n",
       "      <th>50%</th>\n",
       "      <td>41.000000</td>\n",
       "      <td>5.000000</td>\n",
       "      <td>1.000000</td>\n",
       "      <td>1.000000</td>\n",
       "    </tr>\n",
       "    <tr>\n",
       "      <th>75%</th>\n",
       "      <td>52.000000</td>\n",
       "      <td>5.000000</td>\n",
       "      <td>1.000000</td>\n",
       "      <td>3.000000</td>\n",
       "    </tr>\n",
       "    <tr>\n",
       "      <th>max</th>\n",
       "      <td>99.000000</td>\n",
       "      <td>5.000000</td>\n",
       "      <td>1.000000</td>\n",
       "      <td>122.000000</td>\n",
       "    </tr>\n",
       "  </tbody>\n",
       "</table>\n",
       "</div>"
      ],
      "text/plain": [
       "                Age        Rating  RecommendedIND  PositiveFeedbackCount\n",
       "count  22628.000000  22628.000000    22628.000000           22628.000000\n",
       "mean      43.282880      4.183092        0.818764               2.631784\n",
       "std       12.328176      1.115911        0.385222               5.787520\n",
       "min       18.000000      1.000000        0.000000               0.000000\n",
       "25%       34.000000      4.000000        1.000000               0.000000\n",
       "50%       41.000000      5.000000        1.000000               1.000000\n",
       "75%       52.000000      5.000000        1.000000               3.000000\n",
       "max       99.000000      5.000000        1.000000             122.000000"
      ]
     },
     "execution_count": 12,
     "metadata": {},
     "output_type": "execute_result"
    }
   ],
   "source": [
    "df.describe()"
   ]
  },
  {
   "cell_type": "code",
   "execution_count": 13,
   "metadata": {},
   "outputs": [],
   "source": [
    "df.to_pickle('cleaned_df.pkl')"
   ]
  },
  {
   "cell_type": "code",
   "execution_count": 14,
   "metadata": {},
   "outputs": [],
   "source": [
    "from sklearn.cluster import KMeans\n",
    "from sklearn.metrics import silhouette_score\n",
    "from wordcloud import WordCloud"
   ]
  },
  {
   "cell_type": "markdown",
   "metadata": {},
   "source": [
    "## Reading the cleaned data from EDA"
   ]
  },
  {
   "cell_type": "code",
   "execution_count": 15,
   "metadata": {},
   "outputs": [
    {
     "data": {
      "text/html": [
       "<div>\n",
       "<style scoped>\n",
       "    .dataframe tbody tr th:only-of-type {\n",
       "        vertical-align: middle;\n",
       "    }\n",
       "\n",
       "    .dataframe tbody tr th {\n",
       "        vertical-align: top;\n",
       "    }\n",
       "\n",
       "    .dataframe thead th {\n",
       "        text-align: right;\n",
       "    }\n",
       "</style>\n",
       "<table border=\"1\" class=\"dataframe\">\n",
       "  <thead>\n",
       "    <tr style=\"text-align: right;\">\n",
       "      <th></th>\n",
       "      <th>Age</th>\n",
       "      <th>ReviewText</th>\n",
       "      <th>Rating</th>\n",
       "      <th>RecommendedIND</th>\n",
       "      <th>PositiveFeedbackCount</th>\n",
       "      <th>DivisionName</th>\n",
       "      <th>DepartmentName</th>\n",
       "      <th>ClassName</th>\n",
       "      <th>CombinedText</th>\n",
       "    </tr>\n",
       "  </thead>\n",
       "  <tbody>\n",
       "    <tr>\n",
       "      <th>0</th>\n",
       "      <td>33</td>\n",
       "      <td>Absolutely wonderful - silky and sexy and comf...</td>\n",
       "      <td>4</td>\n",
       "      <td>1</td>\n",
       "      <td>0</td>\n",
       "      <td>Initmates</td>\n",
       "      <td>Intimate</td>\n",
       "      <td>Intimates</td>\n",
       "      <td>Absolutely wonderful - silky and sexy and com...</td>\n",
       "    </tr>\n",
       "    <tr>\n",
       "      <th>1</th>\n",
       "      <td>34</td>\n",
       "      <td>Love this dress!  it's sooo pretty.  i happene...</td>\n",
       "      <td>5</td>\n",
       "      <td>1</td>\n",
       "      <td>4</td>\n",
       "      <td>General</td>\n",
       "      <td>Dresses</td>\n",
       "      <td>Dresses</td>\n",
       "      <td>Love this dress!  it's sooo pretty.  i happen...</td>\n",
       "    </tr>\n",
       "    <tr>\n",
       "      <th>2</th>\n",
       "      <td>60</td>\n",
       "      <td>I had such high hopes for this dress and reall...</td>\n",
       "      <td>3</td>\n",
       "      <td>0</td>\n",
       "      <td>0</td>\n",
       "      <td>General</td>\n",
       "      <td>Dresses</td>\n",
       "      <td>Dresses</td>\n",
       "      <td>Some major design flaws I had such high hopes ...</td>\n",
       "    </tr>\n",
       "    <tr>\n",
       "      <th>3</th>\n",
       "      <td>50</td>\n",
       "      <td>I love, love, love this jumpsuit. it's fun, fl...</td>\n",
       "      <td>5</td>\n",
       "      <td>1</td>\n",
       "      <td>0</td>\n",
       "      <td>General Petite</td>\n",
       "      <td>Bottoms</td>\n",
       "      <td>Pants</td>\n",
       "      <td>My favorite buy! I love, love, love this jumps...</td>\n",
       "    </tr>\n",
       "    <tr>\n",
       "      <th>4</th>\n",
       "      <td>47</td>\n",
       "      <td>This shirt is very flattering to all due to th...</td>\n",
       "      <td>5</td>\n",
       "      <td>1</td>\n",
       "      <td>6</td>\n",
       "      <td>General</td>\n",
       "      <td>Tops</td>\n",
       "      <td>Blouses</td>\n",
       "      <td>Flattering shirt This shirt is very flattering...</td>\n",
       "    </tr>\n",
       "  </tbody>\n",
       "</table>\n",
       "</div>"
      ],
      "text/plain": [
       "   Age                                         ReviewText  Rating  \\\n",
       "0   33  Absolutely wonderful - silky and sexy and comf...       4   \n",
       "1   34  Love this dress!  it's sooo pretty.  i happene...       5   \n",
       "2   60  I had such high hopes for this dress and reall...       3   \n",
       "3   50  I love, love, love this jumpsuit. it's fun, fl...       5   \n",
       "4   47  This shirt is very flattering to all due to th...       5   \n",
       "\n",
       "   RecommendedIND  PositiveFeedbackCount    DivisionName DepartmentName  \\\n",
       "0               1                      0       Initmates       Intimate   \n",
       "1               1                      4         General        Dresses   \n",
       "2               0                      0         General        Dresses   \n",
       "3               1                      0  General Petite        Bottoms   \n",
       "4               1                      6         General           Tops   \n",
       "\n",
       "   ClassName                                       CombinedText  \n",
       "0  Intimates   Absolutely wonderful - silky and sexy and com...  \n",
       "1    Dresses   Love this dress!  it's sooo pretty.  i happen...  \n",
       "2    Dresses  Some major design flaws I had such high hopes ...  \n",
       "3      Pants  My favorite buy! I love, love, love this jumps...  \n",
       "4    Blouses  Flattering shirt This shirt is very flattering...  "
      ]
     },
     "execution_count": 15,
     "metadata": {},
     "output_type": "execute_result"
    }
   ],
   "source": [
    "df = pd.read_pickle('cleaned_df.pkl')\n",
    "df.head()"
   ]
  },
  {
   "cell_type": "code",
   "execution_count": 16,
   "metadata": {},
   "outputs": [
    {
     "data": {
      "text/plain": [
       "'I  things about  but not .'"
      ]
     },
     "execution_count": 16,
     "metadata": {},
     "output_type": "execute_result"
    }
   ],
   "source": [
    "words_to_remove = ['love', 'dress', 'dresses', 'zip', 'zipper', 'fit', 'zippers', 'young', 'younger', 'pants', 'years']\n",
    "text = 'I love things about dresses but not dress.'\n",
    "\n",
    "import re\n",
    "pattern = [f'(\\\\b{word}\\\\b)' for word in words_to_remove]\n",
    "pattern = '|'.join(pattern)\n",
    "re.sub(pattern, '', text)"
   ]
  },
  {
   "cell_type": "code",
   "execution_count": 17,
   "metadata": {},
   "outputs": [],
   "source": [
    "df['ReviewTextLower'] = df.ReviewText"
   ]
  },
  {
   "cell_type": "code",
   "execution_count": 18,
   "metadata": {},
   "outputs": [],
   "source": [
    "df['ReviewTextLower'] = df.ReviewTextLower.str.lower()"
   ]
  },
  {
   "cell_type": "code",
   "execution_count": 19,
   "metadata": {},
   "outputs": [],
   "source": [
    "df['ReviewTextLower'].replace(to_replace=pattern, value='', regex=True, inplace=True)"
   ]
  },
  {
   "cell_type": "code",
   "execution_count": 20,
   "metadata": {},
   "outputs": [],
   "source": [
    "count_vectorizer = CountVectorizer(ngram_range=(1, 2),  \n",
    "                                   stop_words='english', \n",
    "                                   token_pattern=\"\\\\b[a-z][a-z]+\\\\b\",\n",
    "                                   lowercase=True,\n",
    "                                   max_df = 0.6, max_features=4000)\n",
    "\n",
    "cv_data = count_vectorizer.fit_transform(df.ReviewTextLower)\n"
   ]
  },
  {
   "cell_type": "code",
   "execution_count": 21,
   "metadata": {},
   "outputs": [],
   "source": [
    "tfidf_vectorizer = TfidfVectorizer(ngram_range=(1, 2),  \n",
    "                                   stop_words='english', \n",
    "                                   token_pattern=\"\\\\b[a-z][a-z]+\\\\b\",\n",
    "                                   lowercase=True,\n",
    "                                   max_df = 0.6, max_features=4000)\n",
    "\n",
    "tfidf_data = tfidf_vectorizer.fit_transform(df.ReviewTextLower)"
   ]
  },
  {
   "cell_type": "code",
   "execution_count": 22,
   "metadata": {},
   "outputs": [
    {
     "data": {
      "text/plain": [
       "4000"
      ]
     },
     "execution_count": 22,
     "metadata": {},
     "output_type": "execute_result"
    }
   ],
   "source": [
    "len(tfidf_vectorizer.get_feature_names())"
   ]
  },
  {
   "cell_type": "code",
   "execution_count": 23,
   "metadata": {},
   "outputs": [
    {
     "data": {
      "image/png": "[encoded data removed]",
      "text/plain": [
       "<Figure size 1440x720 with 1 Axes>"
      ]
     },
     "metadata": {
      "needs_background": "light"
     },
     "output_type": "display_data"
    }
   ],
   "source": [
    "for_wordcloud = count_vectorizer.get_feature_names()\n",
    "for_wordcloud_str = ' '.join(for_wordcloud)\n",
    "\n",
    "wordcloud = WordCloud(width=800, height=400, background_color ='white',\n",
    "                      min_font_size = 7).generate(for_wordcloud_str)\n",
    "\n",
    "plt.figure(figsize=(20, 10), facecolor=None)\n",
    "plt.imshow(wordcloud)\n",
    "plt.axis(\"off\")\n",
    "plt.tight_layout(pad=0)\n",
    " \n",
    "plt.show()"
   ]
  },
  {
   "cell_type": "code",
   "execution_count": 148,
   "metadata": {},
   "outputs": [
    {
     "data": {
      "text/plain": [
       "[('size', 126),\n",
       " ('wear', 98),\n",
       " ('just', 97),\n",
       " ('great', 95),\n",
       " ('like', 83),\n",
       " ('fabric', 77),\n",
       " ('color', 75),\n",
       " ('small', 74),\n",
       " ('little', 56),\n",
       " ('flattering', 55),\n",
       " ('really', 55),\n",
       " ('look', 54),\n",
       " ('perfect', 47),\n",
       " ('soft', 46),\n",
       " ('ordered', 46),\n",
       " ('beautiful', 41),\n",
       " ('nice', 39),\n",
       " ('length', 39),\n",
       " ('bought', 39),\n",
       " ('petite', 38),\n",
       " ('comfortable', 37),\n",
       " ('large', 37),\n",
       " ('got', 37),\n",
       " ('bit', 36),\n",
       " ('medium', 35),\n",
       " ('shirt', 34),\n",
       " ('waist', 34),\n",
       " ('xs', 34),\n",
       " ('cute', 34),\n",
       " ('colors', 33),\n",
       " ('fits', 33),\n",
       " ('looks', 33),\n",
       " ('long', 32),\n",
       " ('material', 30),\n",
       " ('jeans', 28),\n",
       " ('short', 27),\n",
       " ('sweater', 26),\n",
       " ('retailer', 26),\n",
       " ('big', 25),\n",
       " ('quality', 25),\n",
       " ('store', 25),\n",
       " ('think', 25),\n",
       " ('lbs', 24),\n",
       " ('usually', 23),\n",
       " ('pretty', 23),\n",
       " ('design', 22),\n",
       " ('runs', 22),\n",
       " ('good', 22),\n",
       " ('way', 22),\n",
       " ('purchased', 22),\n",
       " ('online', 21),\n",
       " ('work', 21),\n",
       " ('regular', 21),\n",
       " ('don', 20),\n",
       " ('black', 19),\n",
       " ('didn', 18),\n",
       " ('model', 17),\n",
       " ('right', 17),\n",
       " ('white', 16),\n",
       " ('tried', 16),\n",
       " ('skirt', 15),\n",
       " ('sleeves', 15),\n",
       " ('tight', 15),\n",
       " ('blue', 15),\n",
       " ('did', 15),\n",
       " ('person', 14),\n",
       " ('high', 14),\n",
       " ('sale', 14),\n",
       " ('style', 14),\n",
       " ('summer', 14),\n",
       " ('try', 13),\n",
       " ('loved', 13),\n",
       " ('chest', 13),\n",
       " ('usual', 13),\n",
       " ('compliments', 13),\n",
       " ('need', 13),\n",
       " ('feels', 13),\n",
       " ('light', 13),\n",
       " ('bust', 12),\n",
       " ('loose', 12),\n",
       " ('casual', 12),\n",
       " ('weight', 12),\n",
       " ('cut', 12),\n",
       " ('feel', 12),\n",
       " ('picture', 12),\n",
       " ('ve', 12),\n",
       " ('better', 11),\n",
       " ('wearing', 11),\n",
       " ('does', 11),\n",
       " ('doesn', 11),\n",
       " ('worn', 11),\n",
       " ('fall', 11),\n",
       " ('price', 11),\n",
       " ('super', 11),\n",
       " ('looked', 11),\n",
       " ('slightly', 11),\n",
       " ('went', 11),\n",
       " ('gorgeous', 10),\n",
       " ('arms', 10),\n",
       " ('shoulders', 10),\n",
       " ('body', 10),\n",
       " ('pattern', 10),\n",
       " ('shape', 10),\n",
       " ('bra', 10),\n",
       " ('true', 10),\n",
       " ('overall', 10),\n",
       " ('going', 10),\n",
       " ('reviews', 9),\n",
       " ('piece', 9),\n",
       " ('longer', 9),\n",
       " ('leggings', 9),\n",
       " ('buy', 9),\n",
       " ('day', 9),\n",
       " ('time', 9),\n",
       " ('order', 9),\n",
       " ('want', 9),\n",
       " ('run', 9),\n",
       " ('extra', 9),\n",
       " ('glad', 9),\n",
       " ('lot', 9),\n",
       " ('tops', 9),\n",
       " ('absolutely', 8),\n",
       " ('reviewers', 8),\n",
       " ('boxy', 8),\n",
       " ('sheer', 8),\n",
       " ('green', 8),\n",
       " ('underneath', 8),\n",
       " ('lovely', 8),\n",
       " ('wore', 8),\n",
       " ('definitely', 8),\n",
       " ('make', 8),\n",
       " ('nicely', 8),\n",
       " ('room', 8),\n",
       " ('hips', 8),\n",
       " ('wish', 8),\n",
       " ('normally', 8),\n",
       " ('thought', 8),\n",
       " ('previous', 7),\n",
       " ('boots', 7),\n",
       " ('print', 7),\n",
       " ('stretch', 7),\n",
       " ('wide', 7),\n",
       " ('grey', 7),\n",
       " ('navy', 7),\n",
       " ('pair', 7),\n",
       " ('red', 7),\n",
       " ('looking', 7),\n",
       " ('neck', 7),\n",
       " ('dark', 7),\n",
       " ('jacket', 7),\n",
       " ('different', 7),\n",
       " ('sizes', 7),\n",
       " ('makes', 7),\n",
       " ('quite', 7),\n",
       " ('spring', 7),\n",
       " ('received', 7),\n",
       " ('tad', 7),\n",
       " ('larger', 7),\n",
       " ('ll', 7),\n",
       " ('reviewer', 6),\n",
       " ('area', 6),\n",
       " ('low', 6),\n",
       " ('normal', 6),\n",
       " ('weather', 6),\n",
       " ('comfy', 6),\n",
       " ('decided', 6),\n",
       " ('return', 6),\n",
       " ('worth', 6),\n",
       " ('easily', 6),\n",
       " ('exactly', 6),\n",
       " ('felt', 6),\n",
       " ('stretchy', 6),\n",
       " ('perfectly', 6),\n",
       " ('fitted', 6),\n",
       " ('mid', 6),\n",
       " ('hot', 6),\n",
       " ('sure', 6),\n",
       " ('photo', 6),\n",
       " ('saw', 6),\n",
       " ('wanted', 6),\n",
       " ('agree', 5),\n",
       " ('today', 5),\n",
       " ('shorter', 5),\n",
       " ('line', 5),\n",
       " ('cheap', 5),\n",
       " ('pictured', 5),\n",
       " ('vibrant', 5),\n",
       " ('couldn', 5),\n",
       " ('figure', 5),\n",
       " ('recommend', 5),\n",
       " ('dressed', 5),\n",
       " ('dry', 5),\n",
       " ('excited', 5),\n",
       " ('extremely', 5),\n",
       " ('fitting', 5),\n",
       " ('flowy', 5),\n",
       " ('skinny', 5),\n",
       " ('happy', 5),\n",
       " ('waisted', 5),\n",
       " ('hits', 5),\n",
       " ('huge', 5),\n",
       " ('knee', 5),\n",
       " ('wasn', 5),\n",
       " ('sized', 5),\n",
       " ('probably', 5),\n",
       " ('xl', 5),\n",
       " ('ran', 5),\n",
       " ('said', 5),\n",
       " ('smaller', 5),\n",
       " ('year', 5),\n",
       " ('wardrobe', 4),\n",
       " ('ankle', 4),\n",
       " ('arm', 4),\n",
       " ('tee', 4),\n",
       " ('unique', 4),\n",
       " ('beautifully', 4),\n",
       " ('deal', 4),\n",
       " ('bigger', 4),\n",
       " ('snug', 4),\n",
       " ('tights', 4),\n",
       " ('orange', 4),\n",
       " ('came', 4),\n",
       " ('cami', 4),\n",
       " ('eye', 4),\n",
       " ('chested', 4),\n",
       " ('cold', 4),\n",
       " ('goes', 4),\n",
       " ('easy', 4),\n",
       " ('versatile', 4),\n",
       " ('wait', 4),\n",
       " ('inches', 4),\n",
       " ('cozy', 4),\n",
       " ('fun', 4),\n",
       " ('know', 4),\n",
       " ('justice', 4),\n",
       " ('drapes', 4),\n",
       " ('ended', 4),\n",
       " ('returning', 4),\n",
       " ('lightweight', 4),\n",
       " ('tall', 4),\n",
       " ('fine', 4),\n",
       " ('flat', 4),\n",
       " ('forward', 4),\n",
       " ('frame', 4),\n",
       " ('lots', 4),\n",
       " ('mail', 4),\n",
       " ('layering', 4),\n",
       " ('purchase', 4),\n",
       " ('staple', 4),\n",
       " ('rise', 4),\n",
       " ('hit', 4),\n",
       " ('incredibly', 4),\n",
       " ('legs', 4),\n",
       " ('tunic', 4),\n",
       " ('local', 4),\n",
       " ('sleeve', 4),\n",
       " ('torso', 4),\n",
       " ('maybe', 4),\n",
       " ('photos', 4),\n",
       " ('say', 4),\n",
       " ('xxs', 4),\n",
       " ('sizing', 4),\n",
       " ('sold', 4),\n",
       " ('reference', 4),\n",
       " ('sadly', 4),\n",
       " ('shown', 4),\n",
       " ('warm', 4),\n",
       " ('tank', 4),\n",
       " ('unfortunately', 4),\n",
       " ('able', 3),\n",
       " ('addition', 3),\n",
       " ('ag', 3),\n",
       " ('ago', 3),\n",
       " ('amazing', 3),\n",
       " ('amp', 3),\n",
       " ('appears', 3),\n",
       " ('appropriate', 3),\n",
       " ('holes', 3),\n",
       " ('away', 3),\n",
       " ('baby', 3),\n",
       " ('basic', 3),\n",
       " ('blouse', 3),\n",
       " ('fan', 3),\n",
       " ('pricey', 3),\n",
       " ('motif', 3),\n",
       " ('type', 3),\n",
       " ('bother', 3),\n",
       " ('unflattering', 3),\n",
       " ('bright', 3),\n",
       " ('camisole', 3),\n",
       " ('dressy', 3),\n",
       " ('couple', 3),\n",
       " ('times', 3),\n",
       " ('curvy', 3),\n",
       " ('denim', 3),\n",
       " ('gray', 3),\n",
       " ('night', 3),\n",
       " ('days', 3),\n",
       " ('wrinkle', 3),\n",
       " ('throw', 3),\n",
       " ('elastic', 3),\n",
       " ('especially', 3),\n",
       " ('excellent', 3),\n",
       " ('falls', 3),\n",
       " ('favorite', 3),\n",
       " ('tts', 3),\n",
       " ('floral', 3),\n",
       " ('lined', 3),\n",
       " ('tons', 3),\n",
       " ('gotten', 3),\n",
       " ('hand', 3),\n",
       " ('washed', 3),\n",
       " ('hangs', 3),\n",
       " ('hei', 3),\n",
       " ('higher', 3),\n",
       " ('hourglass', 3),\n",
       " ('skirts', 3),\n",
       " ('knees', 3),\n",
       " ('knit', 3),\n",
       " ('sack', 3),\n",
       " ('tent', 3),\n",
       " ('pregnant', 3),\n",
       " ('mentioned', 3),\n",
       " ('months', 3),\n",
       " ('narrow', 3),\n",
       " ('nude', 3),\n",
       " ('ordering', 3),\n",
       " ('originally', 3),\n",
       " ('skin', 3),\n",
       " ('pear', 3),\n",
       " ('pencil', 3),\n",
       " ('pictures', 3),\n",
       " ('plan', 3),\n",
       " ('polka', 3),\n",
       " ('statement', 3),\n",
       " ('strapless', 3),\n",
       " ('tie', 3),\n",
       " ('took', 3),\n",
       " ('transition', 3),\n",
       " ('typically', 3),\n",
       " ('upper', 3),\n",
       " ('adore', 2),\n",
       " ('stunning', 2),\n",
       " ('actually', 2),\n",
       " ('adds', 2),\n",
       " ('stevie', 2),\n",
       " ('airy', 2),\n",
       " ('hole', 2),\n",
       " ('armholes', 2),\n",
       " ('arrived', 2),\n",
       " ('athletic', 2),\n",
       " ('build', 2),\n",
       " ('available', 2),\n",
       " ('doll', 2),\n",
       " ('band', 2),\n",
       " ('based', 2),\n",
       " ('bathing', 2),\n",
       " ('suit', 2),\n",
       " ('beach', 2),\n",
       " ('cover', 2),\n",
       " ('lace', 2),\n",
       " ('bell', 2),\n",
       " ('belly', 2),\n",
       " ('button', 2),\n",
       " ('belt', 2),\n",
       " ('best', 2),\n",
       " ('version', 2),\n",
       " ('types', 2),\n",
       " ('boiled', 2),\n",
       " ('wool', 2),\n",
       " ('booties', 2),\n",
       " ('boyfriend', 2),\n",
       " ('strap', 2),\n",
       " ('straps', 2),\n",
       " ('brand', 2),\n",
       " ('brands', 2),\n",
       " ('breaker', 2),\n",
       " ('bridal', 2),\n",
       " ('shower', 2),\n",
       " ('broad', 2),\n",
       " ('burnt', 2),\n",
       " ('business', 2),\n",
       " ('busted', 2),\n",
       " ('buying', 2),\n",
       " ('byron', 2),\n",
       " ('lars', 2),\n",
       " ('cage', 2),\n",
       " ('calf', 2),\n",
       " ('care', 2),\n",
       " ('carry', 2),\n",
       " ('casually', 2),\n",
       " ('catching', 2),\n",
       " ('caught', 2),\n",
       " ('chance', 2),\n",
       " ('clean', 2),\n",
       " ('cleaning', 2),\n",
       " ('cloth', 2),\n",
       " ('stone', 2),\n",
       " ('clothes', 2),\n",
       " ('clothing', 2),\n",
       " ('coat', 2),\n",
       " ('water', 2),\n",
       " ('combination', 2),\n",
       " ('combo', 2),\n",
       " ('rich', 2),\n",
       " ('patterns', 2),\n",
       " ('stylish', 2),\n",
       " ('cool', 2),\n",
       " ('cooler', 2),\n",
       " ('coral', 2),\n",
       " ('correct', 2),\n",
       " ('cotton', 2),\n",
       " ('happier', 2),\n",
       " ('resist', 2),\n",
       " ('cowl', 2),\n",
       " ('cream', 2),\n",
       " ('customer', 2),\n",
       " ('service', 2),\n",
       " ('cuter', 2),\n",
       " ('date', 2),\n",
       " ('dd', 2),\n",
       " ('depending', 2),\n",
       " ('description', 2),\n",
       " ('says', 2),\n",
       " ('details', 2),\n",
       " ('disappoint', 2),\n",
       " ('notice', 2),\n",
       " ('realize', 2),\n",
       " ('disappointed', 2),\n",
       " ('mind', 2),\n",
       " ('dot', 2),\n",
       " ('dots', 2),\n",
       " ('drape', 2),\n",
       " ('dream', 2),\n",
       " ('dressing', 2),\n",
       " ('drop', 2),\n",
       " ('early', 2),\n",
       " ('waistband', 2),\n",
       " ('embroidery', 2),\n",
       " ('empire', 2),\n",
       " ('end', 2),\n",
       " ('getting', 2),\n",
       " ('errands', 2),\n",
       " ('receive', 2),\n",
       " ('expected', 2),\n",
       " ('expecting', 2),\n",
       " ('heavy', 2),\n",
       " ('stiff', 2),\n",
       " ('substantial', 2),\n",
       " ('winter', 2),\n",
       " ('faux', 2),\n",
       " ('fur', 2),\n",
       " ('feet', 2),\n",
       " ('fell', 2),\n",
       " ('feminine', 2),\n",
       " ('finding', 2),\n",
       " ('flats', 2),\n",
       " ('flip', 2),\n",
       " ('flops', 2),\n",
       " ('flow', 2),\n",
       " ('flows', 2),\n",
       " ('form', 2),\n",
       " ('free', 2),\n",
       " ('shipping', 2),\n",
       " ('frumpy', 2),\n",
       " ('fully', 2),\n",
       " ('gave', 2),\n",
       " ('stars', 2),\n",
       " ('generally', 2),\n",
       " ('glove', 2),\n",
       " ('gone', 2),\n",
       " ('thing', 2),\n",
       " ('home', 2),\n",
       " ('transitional', 2),\n",
       " ('half', 2),\n",
       " ('wash', 2),\n",
       " ('hang', 2),\n",
       " ('hard', 2),\n",
       " ('haven', 2),\n",
       " ('heels', 2),\n",
       " ('hopes', 2),\n",
       " ('highly', 2),\n",
       " ('hip', 2),\n",
       " ('thighs', 2),\n",
       " ('holding', 2),\n",
       " ('horses', 2),\n",
       " ('holiday', 2),\n",
       " ('party', 2),\n",
       " ('hook', 2),\n",
       " ('humid', 2),\n",
       " ('house', 2),\n",
       " ('hung', 2),\n",
       " ('ill', 2),\n",
       " ('immediately', 2),\n",
       " ('isn', 2),\n",
       " ('itchy', 2),\n",
       " ('ivory', 2),\n",
       " ('jean', 2),\n",
       " ('shorts', 2),\n",
       " ('ok', 2),\n",
       " ('late', 2),\n",
       " ('lay', 2),\n",
       " ('lays', 2),\n",
       " ('leather', 2),\n",
       " ('leg', 2),\n",
       " ('life', 2),\n",
       " ('lift', 2),\n",
       " ('lighter', 2),\n",
       " ('maternity', 2),\n",
       " ('things', 2),\n",
       " ('liked', 2),\n",
       " ('roomy', 2),\n",
       " ('sleeved', 2),\n",
       " ('use', 2),\n",
       " ('lower', 2),\n",
       " ('machine', 2),\n",
       " ('washable', 2),\n",
       " ('making', 2),\n",
       " ('section', 2),\n",
       " ('thigh', 2),\n",
       " ('midi', 2),\n",
       " ('mock', 2),\n",
       " ('shot', 2),\n",
       " ('moment', 2),\n",
       " ('money', 2),\n",
       " ('moss', 2),\n",
       " ('natural', 2),\n",
       " ('necklace', 2),\n",
       " ('needless', 2),\n",
       " ('neutral', 2),\n",
       " ('new', 2),\n",
       " ('touch', 2),\n",
       " ('noted', 2),\n",
       " ('old', 2),\n",
       " ('olive', 2),\n",
       " ('opened', 2),\n",
       " ('package', 2),\n",
       " ('owned', 2),\n",
       " ('paid', 2),\n",
       " ('pale', 2),\n",
       " ('pay', 2),\n",
       " ('peach', 2),\n",
       " ('shaped', 2),\n",
       " ('penny', 2),\n",
       " ('shows', 2),\n",
       " ('pilcro', 2),\n",
       " ('pink', 2),\n",
       " ('places', 2),\n",
       " ('pleasantly', 2),\n",
       " ('surprised', 2),\n",
       " ('pleased', 2),\n",
       " ('plenty', 2),\n",
       " ('point', 2),\n",
       " ('poor', 2),\n",
       " ('pop', 2),\n",
       " ('post', 2),\n",
       " ('potato', 2),\n",
       " ('pounds', 2),\n",
       " ('prettier', 2),\n",
       " ('review', 2),\n",
       " ('tag', 2),\n",
       " ('purple', 2),\n",
       " ('rack', 2),\n",
       " ('raise', 2),\n",
       " ('read', 2),\n",
       " ('reading', 2),\n",
       " ('real', 2),\n",
       " ('reese', 2),\n",
       " ('regret', 2),\n",
       " ('returned', 2),\n",
       " ('stated', 2),\n",
       " ('rib', 2),\n",
       " ('spare', 2),\n",
       " ('rose', 2),\n",
       " ('round', 2),\n",
       " ('running', 2),\n",
       " ('scoop', 2),\n",
       " ('second', 2),\n",
       " ('seen', 2),\n",
       " ('shoulder', 2),\n",
       " ('silky', 2),\n",
       " ('similar', 2),\n",
       " ('tone', 2),\n",
       " ('slip', 2),\n",
       " ('smallest', 2),\n",
       " ('snag', 2),\n",
       " ('soon', 2),\n",
       " ('yesterday', 2),\n",
       " ('suggest', 2),\n",
       " ('swing', 2),\n",
       " ('thank', 2),\n",
       " ('thanks', 2),\n",
       " ('thicker', 2),\n",
       " ('tiny', 2),\n",
       " ('ton', 2),\n",
       " ('tracy', 2),\n",
       " ('twice', 2),\n",
       " ('typical', 2),\n",
       " ('waited', 2),\n",
       " ('warmer', 2),\n",
       " ('wedding', 2),\n",
       " ('weeks', 2),\n",
       " ('weigh', 2),\n",
       " ('wider', 2),\n",
       " ('wine', 2),\n",
       " ('worked', 2),\n",
       " ('won', 2),\n",
       " ('works', 2),\n",
       " ('wouldn', 2),\n",
       " ('wrinkles', 2),\n",
       " ('absolute', 1),\n",
       " ('accent', 1),\n",
       " ('accents', 1),\n",
       " ('accentuate', 1),\n",
       " ('accentuated', 1),\n",
       " ('accentuates', 1),\n",
       " ('accessories', 1),\n",
       " ('accommodate', 1),\n",
       " ('according', 1),\n",
       " ('accurate', 1),\n",
       " ('accurately', 1),\n",
       " ('acrylic', 1),\n",
       " ('actual', 1),\n",
       " ('add', 1),\n",
       " ('added', 1),\n",
       " ('adding', 1),\n",
       " ('additional', 1),\n",
       " ('adjust', 1),\n",
       " ('adjustable', 1),\n",
       " ('admit', 1),\n",
       " ('adn', 1),\n",
       " ('adorable', 1),\n",
       " ('advice', 1),\n",
       " ('aesthetic', 1),\n",
       " ('afraid', 1),\n",
       " ('age', 1),\n",
       " ('ahead', 1),\n",
       " ('air', 1),\n",
       " ('alas', 1),\n",
       " ('allow', 1),\n",
       " ('allows', 1),\n",
       " ('alterations', 1),\n",
       " ('altered', 1),\n",
       " ('alternative', 1),\n",
       " ('amazingly', 1),\n",
       " ('ample', 1),\n",
       " ('ankles', 1),\n",
       " ('annoying', 1),\n",
       " ('anticipated', 1),\n",
       " ('anymore', 1),\n",
       " ('anyways', 1),\n",
       " ('apart', 1),\n",
       " ('apparent', 1),\n",
       " ('appeal', 1),\n",
       " ('appealing', 1),\n",
       " ('appear', 1),\n",
       " ('appearance', 1),\n",
       " ('appeared', 1),\n",
       " ('apple', 1),\n",
       " ('appreciate', 1),\n",
       " ('aqua', 1),\n",
       " ('areas', 1),\n",
       " ('aren', 1),\n",
       " ('armhole', 1),\n",
       " ('armpit', 1),\n",
       " ('armpits', 1),\n",
       " ('arrival', 1),\n",
       " ('arrive', 1),\n",
       " ('art', 1),\n",
       " ('asap', 1),\n",
       " ('aside', 1),\n",
       " ('ask', 1),\n",
       " ('asked', 1),\n",
       " ('associate', 1),\n",
       " ('assumed', 1),\n",
       " ('asymmetrical', 1),\n",
       " ('attached', 1),\n",
       " ('attention', 1),\n",
       " ('attracted', 1),\n",
       " ('attractive', 1),\n",
       " ('autumn', 1),\n",
       " ('average', 1),\n",
       " ('avoid', 1),\n",
       " ('aware', 1),\n",
       " ('awesome', 1),\n",
       " ('awful', 1),\n",
       " ('awhile', 1),\n",
       " ('awkward', 1),\n",
       " ('awkwardly', 1),\n",
       " ('background', 1),\n",
       " ('backside', 1),\n",
       " ('bad', 1),\n",
       " ('badly', 1),\n",
       " ('bag', 1),\n",
       " ('baggier', 1),\n",
       " ('baggy', 1),\n",
       " ('balance', 1),\n",
       " ('ballet', 1),\n",
       " ('bandeau', 1),\n",
       " ('bare', 1),\n",
       " ('barely', 1),\n",
       " ('base', 1),\n",
       " ('basically', 1),\n",
       " ('bc', 1),\n",
       " ('beading', 1),\n",
       " ('beads', 1),\n",
       " ('beauty', 1),\n",
       " ('begin', 1),\n",
       " ('beige', 1),\n",
       " ('believe', 1),\n",
       " ('belted', 1),\n",
       " ('bend', 1),\n",
       " ('beware', 1),\n",
       " ('bib', 1),\n",
       " ('biggest', 1),\n",
       " ('bikini', 1),\n",
       " ('billowy', 1),\n",
       " ('birthday', 1),\n",
       " ('blah', 1),\n",
       " ('blanket', 1),\n",
       " ('blazer', 1),\n",
       " ('blend', 1),\n",
       " ('blouses', 1),\n",
       " ('blousy', 1),\n",
       " ('blush', 1),\n",
       " ('bodice', 1),\n",
       " ('bohemian', 1),\n",
       " ('boho', 1),\n",
       " ('bold', 1),\n",
       " ('bomber', 1),\n",
       " ('bone', 1),\n",
       " ('bonus', 1),\n",
       " ('boo', 1),\n",
       " ('boobs', 1),\n",
       " ('boot', 1),\n",
       " ('booty', 1),\n",
       " ('boring', 1),\n",
       " ('bottoms', 1),\n",
       " ('bow', 1),\n",
       " ('box', 1),\n",
       " ('boxier', 1),\n",
       " ('boy', 1),\n",
       " ('bras', 1),\n",
       " ('break', 1),\n",
       " ('breast', 1),\n",
       " ('breasts', 1),\n",
       " ('breathable', 1),\n",
       " ('breezy', 1),\n",
       " ('brighter', 1),\n",
       " ('bring', 1),\n",
       " ('brings', 1),\n",
       " ('broader', 1),\n",
       " ('broke', 1),\n",
       " ('bronze', 1),\n",
       " ('brought', 1),\n",
       " ('brown', 1),\n",
       " ('brunch', 1),\n",
       " ('built', 1),\n",
       " ('bulk', 1),\n",
       " ('bulky', 1),\n",
       " ('bum', 1),\n",
       " ('bummed', 1),\n",
       " ('bummer', 1),\n",
       " ('bump', 1),\n",
       " ('bumps', 1),\n",
       " ('bunch', 1),\n",
       " ('bunched', 1),\n",
       " ('bunching', 1),\n",
       " ('burgundy', 1),\n",
       " ('bustier', 1),\n",
       " ('busty', 1),\n",
       " ('busy', 1),\n",
       " ('butt', 1),\n",
       " ('buttoned', 1),\n",
       " ('buttons', 1),\n",
       " ('california', 1),\n",
       " ('called', 1),\n",
       " ('calves', 1),\n",
       " ('cap', 1),\n",
       " ('cape', 1),\n",
       " ('capris', 1),\n",
       " ('cardi', 1),\n",
       " ('cardigan', 1),\n",
       " ('cardigans', 1),\n",
       " ('careful', 1),\n",
       " ('carefully', 1),\n",
       " ('cartonnier', 1),\n",
       " ('case', 1),\n",
       " ('cashmere', 1),\n",
       " ('catalog', 1),\n",
       " ('cause', 1),\n",
       " ('caused', 1),\n",
       " ('center', 1),\n",
       " ('certain', 1),\n",
       " ('certainly', 1),\n",
       " ('chambray', 1),\n",
       " ('change', 1),\n",
       " ('changed', 1),\n",
       " ('character', 1),\n",
       " ('charcoal', 1),\n",
       " ('charm', 1),\n",
       " ('charming', 1),\n",
       " ('chart', 1),\n",
       " ('cheaper', 1),\n",
       " ('check', 1),\n",
       " ('checked', 1),\n",
       " ('chemise', 1),\n",
       " ('chic', 1),\n",
       " ('chiffon', 1),\n",
       " ('child', 1),\n",
       " ('chilly', 1),\n",
       " ('chinos', 1),\n",
       " ('choice', 1),\n",
       " ('choose', 1),\n",
       " ('chose', 1),\n",
       " ('christmas', 1),\n",
       " ('chunky', 1),\n",
       " ('church', 1),\n",
       " ('cinch', 1),\n",
       " ('cinched', 1),\n",
       " ('class', 1),\n",
       " ('classic', 1),\n",
       " ('classy', 1),\n",
       " ('cleaned', 1),\n",
       " ('clear', 1),\n",
       " ('clearly', 1),\n",
       " ('cleavage', 1),\n",
       " ('cling', 1),\n",
       " ('clingy', 1),\n",
       " ('close', 1),\n",
       " ('closed', 1),\n",
       " ('closely', 1),\n",
       " ('closer', 1),\n",
       " ('closet', 1),\n",
       " ('closure', 1),\n",
       " ('coats', 1),\n",
       " ('cocktail', 1),\n",
       " ('colder', 1),\n",
       " ('collar', 1),\n",
       " ('collection', 1),\n",
       " ('colored', 1),\n",
       " ('colorful', 1),\n",
       " ('coloring', 1),\n",
       " ('combined', 1),\n",
       " ('come', 1),\n",
       " ('comes', 1),\n",
       " ('comfort', 1),\n",
       " ('comfortably', 1),\n",
       " ('coming', 1),\n",
       " ('comment', 1),\n",
       " ('commented', 1),\n",
       " ('comments', 1),\n",
       " ('compare', 1),\n",
       " ('compared', 1),\n",
       " ('comparison', 1),\n",
       " ('complaint', 1),\n",
       " ('complaints', 1),\n",
       " ('complements', 1),\n",
       " ('complete', 1),\n",
       " ('completely', 1),\n",
       " ('compliment', 1),\n",
       " ('complimentary', 1),\n",
       " ('complimented', 1),\n",
       " ('concept', 1),\n",
       " ('concern', 1),\n",
       " ('concerned', 1),\n",
       " ('confident', 1),\n",
       " ('cons', 1),\n",
       " ('conscious', 1),\n",
       " ('conservative', 1),\n",
       " ('consider', 1),\n",
       " ('considered', 1),\n",
       " ('considering', 1),\n",
       " ('consistent', 1),\n",
       " ('consistently', 1),\n",
       " ('constantly', 1),\n",
       " ('constricting', 1),\n",
       " ('constructed', 1),\n",
       " ('construction', 1),\n",
       " ('contrast', 1),\n",
       " ('contrasting', 1),\n",
       " ('control', 1),\n",
       " ('cords', 1),\n",
       " ('corduroy', 1),\n",
       " ('correctly', 1),\n",
       " ('cost', 1),\n",
       " ('course', 1),\n",
       " ('coverage', 1),\n",
       " ('covered', 1),\n",
       " ('covers', 1),\n",
       " ('crazy', 1),\n",
       " ('create', 1),\n",
       " ('created', 1),\n",
       " ('creates', 1),\n",
       " ('creating', 1),\n",
       " ('crisp', 1),\n",
       " ('crochet', 1),\n",
       " ('crop', 1),\n",
       " ('cropped', 1),\n",
       " ('crops', 1),\n",
       " ('cross', 1),\n",
       " ('crossed', 1),\n",
       " ('crotch', 1),\n",
       " ('cuff', 1),\n",
       " ('cuffed', 1),\n",
       " ('cuffs', 1),\n",
       " ('culottes', 1),\n",
       " ('cup', 1),\n",
       " ('cups', 1),\n",
       " ('current', 1),\n",
       " ('currently', 1),\n",
       " ('curve', 1),\n",
       " ('curves', 1),\n",
       " ('curvier', 1),\n",
       " ('cutest', 1),\n",
       " ('cutout', 1),\n",
       " ('cutouts', 1),\n",
       " ('cuts', 1),\n",
       " ('cycle', 1),\n",
       " ('darker', 1),\n",
       " ('darling', 1),\n",
       " ('darn', 1),\n",
       " ('daughter', 1),\n",
       " ('daytime', 1),\n",
       " ('debated', 1),\n",
       " ('debating', 1),\n",
       " ('decent', 1),\n",
       " ('decide', 1),\n",
       " ('deciding', 1),\n",
       " ('decision', 1),\n",
       " ('deep', 1),\n",
       " ('deeper', 1),\n",
       " ('def', 1),\n",
       " ('defective', 1),\n",
       " ('definite', 1),\n",
       " ('definition', 1),\n",
       " ('delicate', 1),\n",
       " ('delighted', 1),\n",
       " ('depends', 1),\n",
       " ('depicted', 1),\n",
       " ('described', 1),\n",
       " ('designed', 1),\n",
       " ('designer', 1),\n",
       " ('designs', 1),\n",
       " ('despite', 1),\n",
       " ('detailed', 1),\n",
       " ('detailing', 1),\n",
       " ('die', 1),\n",
       " ('difference', 1),\n",
       " ('differently', 1),\n",
       " ('difficult', 1),\n",
       " ('dinner', 1),\n",
       " ('dirty', 1),\n",
       " ('disagree', 1),\n",
       " ('disappointing', 1),\n",
       " ('disappointment', 1),\n",
       " ('discount', 1),\n",
       " ('discovered', 1),\n",
       " ('display', 1),\n",
       " ('distressed', 1),\n",
       " ('doing', 1),\n",
       " ('dolan', 1),\n",
       " ('dolman', 1),\n",
       " ('double', 1),\n",
       " ('doubt', 1),\n",
       " ('dowdy', 1),\n",
       " ('downside', 1),\n",
       " ('drab', 1),\n",
       " ('draped', 1),\n",
       " ('drapey', 1),\n",
       " ('draping', 1),\n",
       " ('draw', 1),\n",
       " ('drawback', 1),\n",
       " ('drawn', 1),\n",
       " ('drawstring', 1),\n",
       " ('dreamy', 1),\n",
       " ('dressier', 1),\n",
       " ('dried', 1),\n",
       " ('dryer', 1),\n",
       " ('drying', 1),\n",
       " ('dull', 1),\n",
       " ('durable', 1),\n",
       " ('duster', 1),\n",
       " ('dusty', 1),\n",
       " ('dye', 1),\n",
       " ('earlier', 1),\n",
       " ('ease', 1),\n",
       " ('easier', 1),\n",
       " ('edge', 1),\n",
       " ('edges', 1),\n",
       " ('edgy', 1),\n",
       " ('effect', 1),\n",
       " ('effort', 1),\n",
       " ('effortless', 1),\n",
       " ('elbow', 1),\n",
       " ('elegance', 1),\n",
       " ('elegant', 1),\n",
       " ('embroidered', 1),\n",
       " ('endowed', 1),\n",
       " ('ends', 1),\n",
       " ...]"
      ]
     },
     "execution_count": 148,
     "metadata": {},
     "output_type": "execute_result"
    }
   ],
   "source": [
    "from collections import Counter\n",
    "\n",
    "word_count = Counter(for_wordcloud_str.lower().split())\n",
    "word_count.most_common()"
   ]
  },
  {
   "cell_type": "code",
   "execution_count": 149,
   "metadata": {},
   "outputs": [],
   "source": [
    "from sklearn.model_selection import train_test_split\n",
    "from sklearn.naive_bayes import MultinomialNB\n",
    "from sklearn.metrics import confusion_matrix, classification_report\n",
    "\n",
    "from sklearn.cluster import KMeans\n",
    "from imblearn.over_sampling import SMOTE"
   ]
  },
  {
   "cell_type": "code",
   "execution_count": 150,
   "metadata": {},
   "outputs": [
    {
     "data": {
      "text/plain": [
       "<matplotlib.axes._subplots.AxesSubplot at 0x7f4745f59128>"
      ]
     },
     "execution_count": 150,
     "metadata": {},
     "output_type": "execute_result"
    },
    {
     "data": {
      "image/png": "[encoded data removed]",
      "text/plain": [
       "<Figure size 1440x720 with 1 Axes>"
      ]
     },
     "metadata": {},
     "output_type": "display_data"
    }
   ],
   "source": [
    "plt.figure(figsize=(20,10))\n",
    "sns.set(font_scale = 2)\n",
    "sns.countplot(df.Rating)"
   ]
  },
  {
   "cell_type": "code",
   "execution_count": 151,
   "metadata": {},
   "outputs": [
    {
     "data": {
      "text/plain": [
       "Rating\n",
       "1      821\n",
       "2     1548\n",
       "3     2823\n",
       "4     4908\n",
       "5    12521\n",
       "Name: ReviewTextLower, dtype: int64"
      ]
     },
     "execution_count": 151,
     "metadata": {},
     "output_type": "execute_result"
    }
   ],
   "source": [
    "df.groupby('Rating')['ReviewTextLower'].nunique()"
   ]
  },
  {
   "cell_type": "code",
   "execution_count": 152,
   "metadata": {},
   "outputs": [
    {
     "data": {
      "text/plain": [
       "5    12527\n",
       "4     4908\n",
       "3     2823\n",
       "2     1549\n",
       "1      821\n",
       "Name: Rating, dtype: int64"
      ]
     },
     "execution_count": 152,
     "metadata": {},
     "output_type": "execute_result"
    }
   ],
   "source": [
    "df.Rating.value_counts()"
   ]
  },
  {
   "cell_type": "code",
   "execution_count": 153,
   "metadata": {},
   "outputs": [
    {
     "data": {
      "text/html": [
       "<div>\n",
       "<style scoped>\n",
       "    .dataframe tbody tr th:only-of-type {\n",
       "        vertical-align: middle;\n",
       "    }\n",
       "\n",
       "    .dataframe tbody tr th {\n",
       "        vertical-align: top;\n",
       "    }\n",
       "\n",
       "    .dataframe thead th {\n",
       "        text-align: right;\n",
       "    }\n",
       "</style>\n",
       "<table border=\"1\" class=\"dataframe\">\n",
       "  <thead>\n",
       "    <tr style=\"text-align: right;\">\n",
       "      <th></th>\n",
       "      <th>Age</th>\n",
       "      <th>ReviewText</th>\n",
       "      <th>Rating</th>\n",
       "      <th>RecommendedIND</th>\n",
       "      <th>PositiveFeedbackCount</th>\n",
       "      <th>DivisionName</th>\n",
       "      <th>DepartmentName</th>\n",
       "      <th>ClassName</th>\n",
       "      <th>CombinedText</th>\n",
       "      <th>ReviewTextLower</th>\n",
       "    </tr>\n",
       "  </thead>\n",
       "  <tbody>\n",
       "    <tr>\n",
       "      <td>0</td>\n",
       "      <td>33</td>\n",
       "      <td>Absolutely wonderful - silky and sexy and comf...</td>\n",
       "      <td>4</td>\n",
       "      <td>1</td>\n",
       "      <td>0</td>\n",
       "      <td>Initmates</td>\n",
       "      <td>Intimate</td>\n",
       "      <td>Intimates</td>\n",
       "      <td>Absolutely wonderful - silky and sexy and com...</td>\n",
       "      <td>absolutely wonderful - silky and sexy and comf...</td>\n",
       "    </tr>\n",
       "    <tr>\n",
       "      <td>1</td>\n",
       "      <td>34</td>\n",
       "      <td>Love this dress!  it's sooo pretty.  i happene...</td>\n",
       "      <td>5</td>\n",
       "      <td>1</td>\n",
       "      <td>4</td>\n",
       "      <td>General</td>\n",
       "      <td>Dresses</td>\n",
       "      <td>Dresses</td>\n",
       "      <td>Love this dress!  it's sooo pretty.  i happen...</td>\n",
       "      <td>this !  it's sooo pretty.  i happened to find...</td>\n",
       "    </tr>\n",
       "    <tr>\n",
       "      <td>2</td>\n",
       "      <td>60</td>\n",
       "      <td>I had such high hopes for this dress and reall...</td>\n",
       "      <td>3</td>\n",
       "      <td>0</td>\n",
       "      <td>0</td>\n",
       "      <td>General</td>\n",
       "      <td>Dresses</td>\n",
       "      <td>Dresses</td>\n",
       "      <td>Some major design flaws I had such high hopes ...</td>\n",
       "      <td>i had such high hopes for this  and really wan...</td>\n",
       "    </tr>\n",
       "    <tr>\n",
       "      <td>3</td>\n",
       "      <td>50</td>\n",
       "      <td>I love, love, love this jumpsuit. it's fun, fl...</td>\n",
       "      <td>5</td>\n",
       "      <td>1</td>\n",
       "      <td>0</td>\n",
       "      <td>General Petite</td>\n",
       "      <td>Bottoms</td>\n",
       "      <td>Pants</td>\n",
       "      <td>My favorite buy! I love, love, love this jumps...</td>\n",
       "      <td>i , ,  this jumpsuit. it's fun, flirty, and fa...</td>\n",
       "    </tr>\n",
       "    <tr>\n",
       "      <td>4</td>\n",
       "      <td>47</td>\n",
       "      <td>This shirt is very flattering to all due to th...</td>\n",
       "      <td>5</td>\n",
       "      <td>1</td>\n",
       "      <td>6</td>\n",
       "      <td>General</td>\n",
       "      <td>Tops</td>\n",
       "      <td>Blouses</td>\n",
       "      <td>Flattering shirt This shirt is very flattering...</td>\n",
       "      <td>this shirt is very flattering to all due to th...</td>\n",
       "    </tr>\n",
       "  </tbody>\n",
       "</table>\n",
       "</div>"
      ],
      "text/plain": [
       "   Age                                         ReviewText  Rating  \\\n",
       "0   33  Absolutely wonderful - silky and sexy and comf...       4   \n",
       "1   34  Love this dress!  it's sooo pretty.  i happene...       5   \n",
       "2   60  I had such high hopes for this dress and reall...       3   \n",
       "3   50  I love, love, love this jumpsuit. it's fun, fl...       5   \n",
       "4   47  This shirt is very flattering to all due to th...       5   \n",
       "\n",
       "   RecommendedIND  PositiveFeedbackCount    DivisionName DepartmentName  \\\n",
       "0               1                      0       Initmates       Intimate   \n",
       "1               1                      4         General        Dresses   \n",
       "2               0                      0         General        Dresses   \n",
       "3               1                      0  General Petite        Bottoms   \n",
       "4               1                      6         General           Tops   \n",
       "\n",
       "   ClassName                                       CombinedText  \\\n",
       "0  Intimates   Absolutely wonderful - silky and sexy and com...   \n",
       "1    Dresses   Love this dress!  it's sooo pretty.  i happen...   \n",
       "2    Dresses  Some major design flaws I had such high hopes ...   \n",
       "3      Pants  My favorite buy! I love, love, love this jumps...   \n",
       "4    Blouses  Flattering shirt This shirt is very flattering...   \n",
       "\n",
       "                                     ReviewTextLower  \n",
       "0  absolutely wonderful - silky and sexy and comf...  \n",
       "1   this !  it's sooo pretty.  i happened to find...  \n",
       "2  i had such high hopes for this  and really wan...  \n",
       "3  i , ,  this jumpsuit. it's fun, flirty, and fa...  \n",
       "4  this shirt is very flattering to all due to th...  "
      ]
     },
     "execution_count": 153,
     "metadata": {},
     "output_type": "execute_result"
    }
   ],
   "source": [
    "df.head()"
   ]
  },
  {
   "cell_type": "markdown",
   "metadata": {},
   "source": [
    "## Group different ranks together as my target rank"
   ]
  },
  {
   "cell_type": "code",
   "execution_count": 154,
   "metadata": {},
   "outputs": [],
   "source": [
    "df['ModifiedRating'] = df.Rating.replace([2, 3, 4], 1)"
   ]
  },
  {
   "cell_type": "code",
   "execution_count": 155,
   "metadata": {},
   "outputs": [
    {
     "data": {
      "text/plain": [
       "<matplotlib.axes._subplots.AxesSubplot at 0x7f47436a7e48>"
      ]
     },
     "execution_count": 155,
     "metadata": {},
     "output_type": "execute_result"
    },
    {
     "data": {
      "image/png": "[encoded data removed]",
      "text/plain": [
       "<Figure size 1440x720 with 1 Axes>"
      ]
     },
     "metadata": {},
     "output_type": "display_data"
    }
   ],
   "source": [
    "sns.set(font_scale = 2)\n",
    "plt.figure(figsize=(20,10))\n",
    "sns.countplot(df.ModifiedRating)"
   ]
  },
  {
   "cell_type": "code",
   "execution_count": 157,
   "metadata": {},
   "outputs": [
    {
     "data": {
      "text/plain": [
       "10101"
      ]
     },
     "execution_count": 157,
     "metadata": {},
     "output_type": "execute_result"
    }
   ],
   "source": [
    "len(df[df.ModifiedRating == 1])"
   ]
  },
  {
   "cell_type": "code",
   "execution_count": 158,
   "metadata": {},
   "outputs": [
    {
     "data": {
      "text/plain": [
       "12527"
      ]
     },
     "execution_count": 158,
     "metadata": {},
     "output_type": "execute_result"
    }
   ],
   "source": [
    "len(df[df.ModifiedRating == 5])"
   ]
  },
  {
   "cell_type": "code",
   "execution_count": 159,
   "metadata": {},
   "outputs": [],
   "source": [
    "## Build different classification models\n",
    "\n",
    "#### Using ReviewTextLower column\n",
    "\n",
    "# using ReviewTextLower column as my predictors\n",
    "# using ModifiedRating column as my target variable\n",
    "X = df['ReviewTextLower']\n",
    "y = df['ModifiedRating']\n",
    "\n",
    "# vectorization\n",
    "count_vectorizer = CountVectorizer(ngram_range=(1, 2),  \n",
    "                                   stop_words='english', \n",
    "                                   token_pattern=\"\\\\b[a-z][a-z]+\\\\b\",\n",
    "                                   lowercase=True,\n",
    "                                   max_df = 0.6)\n",
    "tfidf_vectorizer = TfidfVectorizer(ngram_range=(1, 2),  \n",
    "                                   stop_words='english', \n",
    "                                   token_pattern=\"\\\\b[a-z][a-z]+\\\\b\",\n",
    "                                   lowercase=True,\n",
    "                                   max_df = 0.6)\n",
    "\n",
    "# transform my predictors\n",
    "cv_data = count_vectorizer.fit_transform(X)\n",
    "tfidf_data = tfidf_vectorizer.fit_transform(X)"
   ]
  },
  {
   "cell_type": "code",
   "execution_count": 162,
   "metadata": {},
   "outputs": [
    {
     "data": {
      "text/plain": [
       "254500"
      ]
     },
     "execution_count": 162,
     "metadata": {},
     "output_type": "execute_result"
    }
   ],
   "source": [
    "len(count_vectorizer.vocabulary_)"
   ]
  },
  {
   "cell_type": "code",
   "execution_count": 170,
   "metadata": {},
   "outputs": [
    {
     "data": {
      "text/plain": [
       "(22628, 254500)"
      ]
     },
     "execution_count": 170,
     "metadata": {},
     "output_type": "execute_result"
    }
   ],
   "source": [
    "cv_data.shape"
   ]
  },
  {
   "cell_type": "code",
   "execution_count": 171,
   "metadata": {},
   "outputs": [
    {
     "data": {
      "text/plain": [
       "MultinomialNB(alpha=1.0, class_prior=None, fit_prior=True)"
      ]
     },
     "execution_count": 171,
     "metadata": {},
     "output_type": "execute_result"
    }
   ],
   "source": [
    "# split my data to 70/30 \n",
    "X_train, X_test, y_train, y_test = train_test_split(cv_data, y, test_size=0.3, random_state=42)\n",
    "\n",
    "# train with multinomail Naive Bayes\n",
    "nb = MultinomialNB()\n",
    "nb.fit(X_train, y_train)"
   ]
  },
  {
   "cell_type": "code",
   "execution_count": 172,
   "metadata": {},
   "outputs": [],
   "source": [
    "# make prediction\n",
    "y_pred = nb.predict(X_test)"
   ]
  },
  {
   "cell_type": "code",
   "execution_count": 173,
   "metadata": {},
   "outputs": [
    {
     "name": "stdout",
     "output_type": "stream",
     "text": [
      "[[2129  896]\n",
      " [ 462 3302]]\n",
      "\n",
      "\n",
      "              precision    recall  f1-score   support\n",
      "\n",
      "           1       0.82      0.70      0.76      3025\n",
      "           5       0.79      0.88      0.83      3764\n",
      "\n",
      "    accuracy                           0.80      6789\n",
      "   macro avg       0.80      0.79      0.79      6789\n",
      "weighted avg       0.80      0.80      0.80      6789\n",
      "\n"
     ]
    }
   ],
   "source": [
    "# print out confusion matrix and classification report\n",
    "print(confusion_matrix(y_test, y_pred))\n",
    "print('\\n')\n",
    "print(classification_report(y_test, y_pred))"
   ]
  },
  {
   "cell_type": "code",
   "execution_count": 174,
   "metadata": {},
   "outputs": [
    {
     "data": {
      "text/plain": [
       "' this !  it\\'s sooo pretty.  i happened to find it in a store, and i\\'m glad i did bc i never would have ordered it online bc it\\'s petite.  i bought a petite and am 5\\'8\".  i  the length on me- hits just a little below the knee.  would definitely be a true midi on someone who is truly petite.'"
      ]
     },
     "execution_count": 174,
     "metadata": {},
     "output_type": "execute_result"
    }
   ],
   "source": [
    "# trying to make a prediction using this review\n",
    "# this is an example for positive review\n",
    "positive_example = df['ReviewTextLower'][1]\n",
    "positive_example"
   ]
  },
  {
   "cell_type": "code",
   "execution_count": 177,
   "metadata": {},
   "outputs": [
    {
     "data": {
      "text/plain": [
       "5"
      ]
     },
     "execution_count": 177,
     "metadata": {},
     "output_type": "execute_result"
    }
   ],
   "source": [
    "# vectorize the positive_example\n",
    "positive_example_vec = count_vectorizer.transform([positive_example])\n",
    "# make prediction\n",
    "nb.predict(positive_example_vec)[0]"
   ]
  },
  {
   "cell_type": "code",
   "execution_count": 178,
   "metadata": {},
   "outputs": [
    {
     "data": {
      "text/plain": [
       "'i  tracy reese , but this one is not for the very petite. i am just under 5 feet tall and usually wear a 0p in this brand. this  was very pretty out of the package but its a lot of . the skirt is long and very full so it overwhelmed my small frame. not a stranger to alterations, shortening and narrowing the skirt would take away from the embellishment of the garment. i  the color and the idea of the style but it just did not work on me. i returned this .'"
      ]
     },
     "execution_count": 178,
     "metadata": {},
     "output_type": "execute_result"
    }
   ],
   "source": [
    "# trying to make a prediction using an negative review\n",
    "negative_example = df['ReviewTextLower'][5]\n",
    "negative_example"
   ]
  },
  {
   "cell_type": "code",
   "execution_count": 179,
   "metadata": {},
   "outputs": [
    {
     "data": {
      "text/plain": [
       "1"
      ]
     },
     "execution_count": 179,
     "metadata": {},
     "output_type": "execute_result"
    }
   ],
   "source": [
    "negative_example_vec = count_vectorizer.transform([negative_example])\n",
    "nb.predict(negative_example_vec)[0]"
   ]
  },
  {
   "cell_type": "code",
   "execution_count": 183,
   "metadata": {},
   "outputs": [
    {
     "data": {
      "text/plain": [
       "1"
      ]
     },
     "execution_count": 183,
     "metadata": {},
     "output_type": "execute_result"
    }
   ],
   "source": [
    "### TF IDF Performs Better\n",
    "negative_manual_example = \"Skirt Doesn't Fit to my size as expected from pictures, its not perfect\"\n",
    "negative_manual_example_vec = tfidf_vectorizer.transform([negative_manual_example])\n",
    "nb.predict(negative_manual_example_vec)[0]"
   ]
  },
  {
   "cell_type": "code",
   "execution_count": 182,
   "metadata": {},
   "outputs": [
    {
     "data": {
      "text/plain": [
       "5"
      ]
     },
     "execution_count": 182,
     "metadata": {},
     "output_type": "execute_result"
    }
   ],
   "source": [
    "negative_manual_example = \"Skirt Doesn't Fit to my size as expected from pictures, its not perfect\"\n",
    "negative_manual_example_vec = count_vectorizer.transform([negative_manual_example])\n",
    "nb.predict(negative_manual_example_vec)[0]"
   ]
  },
  {
   "cell_type": "code",
   "execution_count": 185,
   "metadata": {},
   "outputs": [
    {
     "data": {
      "text/plain": [
       "' runs small esp where the  area runs. i ordered the sp which typically fits me and it was very tight! the material on the top looks and feels very cheap that even just pulling on it will cause it to rip the fabric. pretty disappointed as it was going to be my christmas  this year! needless to say it will be going back.'"
      ]
     },
     "execution_count": 185,
     "metadata": {},
     "output_type": "execute_result"
    }
   ],
   "source": [
    "negative_example = df['ReviewTextLower'][10]\n",
    "negative_example"
   ]
  },
  {
   "cell_type": "code",
   "execution_count": 187,
   "metadata": {},
   "outputs": [
    {
     "data": {
      "text/plain": [
       "1"
      ]
     },
     "execution_count": 187,
     "metadata": {},
     "output_type": "execute_result"
    }
   ],
   "source": [
    "negative_example_vec = count_vectorizer.transform([negative_example])\n",
    "nb.predict(negative_example_vec)[0]"
   ]
  },
  {
   "cell_type": "markdown",
   "metadata": {},
   "source": [
    "#### Using Combinetext column"
   ]
  },
  {
   "cell_type": "code",
   "execution_count": 188,
   "metadata": {},
   "outputs": [],
   "source": [
    "df['CombinedTextLower'] = df.CombinedText"
   ]
  },
  {
   "cell_type": "code",
   "execution_count": 189,
   "metadata": {},
   "outputs": [],
   "source": [
    "df['CombinedTextLower'] = df.CombinedTextLower.str.lower()"
   ]
  },
  {
   "cell_type": "code",
   "execution_count": 190,
   "metadata": {},
   "outputs": [],
   "source": [
    "df['CombinedTextLower'].replace(to_replace=pattern, value='', regex=True, inplace=True)"
   ]
  },
  {
   "cell_type": "code",
   "execution_count": 191,
   "metadata": {},
   "outputs": [],
   "source": [
    "X = df.CombinedTextLower\n",
    "y = df.ModifiedRating"
   ]
  },
  {
   "cell_type": "code",
   "execution_count": 192,
   "metadata": {},
   "outputs": [],
   "source": [
    "count_vectorizer = CountVectorizer(ngram_range=(1, 2),  \n",
    "                                   stop_words='english', \n",
    "                                   token_pattern=\"\\\\b[a-z][a-z]+\\\\b\",\n",
    "                                   lowercase=True,\n",
    "                                   max_df = 0.6)\n",
    "tfidf_vectorizer = TfidfVectorizer(ngram_range=(1, 2),  \n",
    "                                   stop_words='english', \n",
    "                                   token_pattern=\"\\\\b[a-z][a-z]+\\\\b\",\n",
    "                                   lowercase=True,\n",
    "                                   max_df = 0.6)\n",
    "\n",
    "cv_data = count_vectorizer.fit_transform(X)\n",
    "tfidf_data = tfidf_vectorizer.fit_transform(X)"
   ]
  },
  {
   "cell_type": "code",
   "execution_count": 193,
   "metadata": {},
   "outputs": [
    {
     "data": {
      "text/plain": [
       "267875"
      ]
     },
     "execution_count": 193,
     "metadata": {},
     "output_type": "execute_result"
    }
   ],
   "source": [
    "len(count_vectorizer.vocabulary_)"
   ]
  },
  {
   "cell_type": "code",
   "execution_count": 194,
   "metadata": {},
   "outputs": [],
   "source": [
    "X_train, X_test, y_train, y_test = train_test_split(cv_data, y, test_size=0.3, random_state=42)"
   ]
  },
  {
   "cell_type": "code",
   "execution_count": 195,
   "metadata": {},
   "outputs": [
    {
     "data": {
      "text/plain": [
       "MultinomialNB(alpha=1.0, class_prior=None, fit_prior=True)"
      ]
     },
     "execution_count": 195,
     "metadata": {},
     "output_type": "execute_result"
    }
   ],
   "source": [
    "nb = MultinomialNB()\n",
    "nb.fit(X_train, y_train)"
   ]
  },
  {
   "cell_type": "code",
   "execution_count": 196,
   "metadata": {},
   "outputs": [],
   "source": [
    "y_pred = nb.predict(X_test)"
   ]
  },
  {
   "cell_type": "code",
   "execution_count": 197,
   "metadata": {},
   "outputs": [
    {
     "name": "stdout",
     "output_type": "stream",
     "text": [
      "[[2177  848]\n",
      " [ 424 3340]]\n",
      "\n",
      "\n",
      "              precision    recall  f1-score   support\n",
      "\n",
      "           1       0.84      0.72      0.77      3025\n",
      "           5       0.80      0.89      0.84      3764\n",
      "\n",
      "    accuracy                           0.81      6789\n",
      "   macro avg       0.82      0.80      0.81      6789\n",
      "weighted avg       0.82      0.81      0.81      6789\n",
      "\n"
     ]
    }
   ],
   "source": [
    "print(confusion_matrix(y_test, y_pred))\n",
    "print('\\n')\n",
    "print(classification_report(y_test, y_pred))"
   ]
  },
  {
   "cell_type": "code",
   "execution_count": 199,
   "metadata": {},
   "outputs": [
    {
     "name": "stderr",
     "output_type": "stream",
     "text": [
      "/usr/local/lib64/python3.6/site-packages/sklearn/linear_model/logistic.py:432: FutureWarning: Default solver will be changed to 'lbfgs' in 0.22. Specify a solver to silence this warning.\n",
      "  FutureWarning)\n"
     ]
    },
    {
     "data": {
      "text/plain": [
       "LogisticRegression(C=1.0, class_weight=None, dual=False, fit_intercept=True,\n",
       "                   intercept_scaling=1, l1_ratio=None, max_iter=100,\n",
       "                   multi_class='warn', n_jobs=None, penalty='l2',\n",
       "                   random_state=None, solver='warn', tol=0.0001, verbose=0,\n",
       "                   warm_start=False)"
      ]
     },
     "execution_count": 199,
     "metadata": {},
     "output_type": "execute_result"
    }
   ],
   "source": [
    "from sklearn.linear_model import LogisticRegression\n",
    "logit = LogisticRegression()\n",
    "logit.fit(X_train, y_train)"
   ]
  },
  {
   "cell_type": "code",
   "execution_count": 200,
   "metadata": {},
   "outputs": [],
   "source": [
    "y_pred = logit.predict(X_test)"
   ]
  },
  {
   "cell_type": "code",
   "execution_count": 201,
   "metadata": {},
   "outputs": [
    {
     "name": "stdout",
     "output_type": "stream",
     "text": [
      "[[2250  775]\n",
      " [ 554 3210]]\n",
      "\n",
      "\n",
      "              precision    recall  f1-score   support\n",
      "\n",
      "           1       0.80      0.74      0.77      3025\n",
      "           5       0.81      0.85      0.83      3764\n",
      "\n",
      "    accuracy                           0.80      6789\n",
      "   macro avg       0.80      0.80      0.80      6789\n",
      "weighted avg       0.80      0.80      0.80      6789\n",
      "\n"
     ]
    }
   ],
   "source": [
    "print(confusion_matrix(y_test, y_pred))\n",
    "print('\\n')\n",
    "print(classification_report(y_test, y_pred))"
   ]
  },
  {
   "cell_type": "code",
   "execution_count": 202,
   "metadata": {},
   "outputs": [
    {
     "data": {
      "text/plain": [
       "'  this !  it\\'s sooo pretty.  i happened to find it in a store, and i\\'m glad i did bc i never would have ordered it online bc it\\'s petite.  i bought a petite and am 5\\'8\".  i  the length on me- hits just a little below the knee.  would definitely be a true midi on someone who is truly petite.'"
      ]
     },
     "execution_count": 202,
     "metadata": {},
     "output_type": "execute_result"
    }
   ],
   "source": [
    "positive_example = df['CombinedTextLower'][1]\n",
    "positive_example"
   ]
  },
  {
   "cell_type": "code",
   "execution_count": 204,
   "metadata": {},
   "outputs": [
    {
     "data": {
      "text/plain": [
       "5"
      ]
     },
     "execution_count": 204,
     "metadata": {},
     "output_type": "execute_result"
    }
   ],
   "source": [
    "positive_example_vec = tfidf_vectorizer.transform([positive_example])\n",
    "logit.predict(positive_example_vec)[0]"
   ]
  },
  {
   "cell_type": "code",
   "execution_count": 205,
   "metadata": {},
   "outputs": [
    {
     "data": {
      "text/plain": [
       "'i  tracy reese , but this one is not for the very petite. i am just under 5 feet tall and usually wear a 0p in this brand. this  was very pretty out of the package but its a lot of . the skirt is long and very full so it overwhelmed my small frame. not a stranger to alterations, shortening and narrowing the skirt would take away from the embellishment of the garment. i  the color and the idea of the style but it just did not work on me. i returned this .'"
      ]
     },
     "execution_count": 205,
     "metadata": {},
     "output_type": "execute_result"
    }
   ],
   "source": [
    "negative_example=df['ReviewTextLower'][5]\n",
    "negative_example"
   ]
  },
  {
   "cell_type": "code",
   "execution_count": 207,
   "metadata": {},
   "outputs": [
    {
     "data": {
      "text/plain": [
       "1"
      ]
     },
     "execution_count": 207,
     "metadata": {},
     "output_type": "execute_result"
    }
   ],
   "source": [
    "negative_example_vec = tfidf_vectorizer.transform([negative_example])\n",
    "logit.predict(negative_example_vec)[0]"
   ]
  },
  {
   "cell_type": "code",
   "execution_count": 208,
   "metadata": {},
   "outputs": [
    {
     "data": {
      "text/plain": [
       "\"i bought this  for a wedding i have this summer, and it's so cute. unfortunately the  isn't perfect. the medium fits my waist perfectly, but was way too long and too big in the bust and shoulders. if i wanted to spend the money, i could get it tailored, but i just felt like it might not be worth it. side note - this  was delivered to me with a nordstrom tag on it and i found it much cheaper there after looking!\""
      ]
     },
     "execution_count": 208,
     "metadata": {},
     "output_type": "execute_result"
    }
   ],
   "source": [
    "negative_example=df['ReviewTextLower'][23484]\n",
    "negative_example"
   ]
  },
  {
   "cell_type": "code",
   "execution_count": 209,
   "metadata": {},
   "outputs": [
    {
     "data": {
      "text/plain": [
       "1"
      ]
     },
     "execution_count": 209,
     "metadata": {},
     "output_type": "execute_result"
    }
   ],
   "source": [
    "negative_example_vec = count_vectorizer.transform([negative_example])\n",
    "logit.predict(negative_example_vec)[0]"
   ]
  },
  {
   "cell_type": "markdown",
   "metadata": {},
   "source": [
    "# predicting recommend or not"
   ]
  },
  {
   "cell_type": "code",
   "execution_count": 210,
   "metadata": {},
   "outputs": [
    {
     "data": {
      "text/plain": [
       "<matplotlib.axes._subplots.AxesSubplot at 0x7f474051dc18>"
      ]
     },
     "execution_count": 210,
     "metadata": {},
     "output_type": "execute_result"
    },
    {
     "data": {
      "image/png": "[encoded data removed]",
      "text/plain": [
       "<Figure size 432x288 with 1 Axes>"
      ]
     },
     "metadata": {},
     "output_type": "display_data"
    }
   ],
   "source": [
    "sns.countplot(df.RecommendedIND)"
   ]
  },
  {
   "cell_type": "code",
   "execution_count": 211,
   "metadata": {},
   "outputs": [
    {
     "data": {
      "text/html": [
       "<div>\n",
       "<style scoped>\n",
       "    .dataframe tbody tr th:only-of-type {\n",
       "        vertical-align: middle;\n",
       "    }\n",
       "\n",
       "    .dataframe tbody tr th {\n",
       "        vertical-align: top;\n",
       "    }\n",
       "\n",
       "    .dataframe thead th {\n",
       "        text-align: right;\n",
       "    }\n",
       "</style>\n",
       "<table border=\"1\" class=\"dataframe\">\n",
       "  <thead>\n",
       "    <tr style=\"text-align: right;\">\n",
       "      <th></th>\n",
       "      <th>Age</th>\n",
       "      <th>ReviewText</th>\n",
       "      <th>Rating</th>\n",
       "      <th>RecommendedIND</th>\n",
       "      <th>PositiveFeedbackCount</th>\n",
       "      <th>DivisionName</th>\n",
       "      <th>DepartmentName</th>\n",
       "      <th>ClassName</th>\n",
       "      <th>CombinedText</th>\n",
       "      <th>ReviewTextLower</th>\n",
       "      <th>ModifiedRating</th>\n",
       "      <th>CombinedTextLower</th>\n",
       "    </tr>\n",
       "  </thead>\n",
       "  <tbody>\n",
       "    <tr>\n",
       "      <td>0</td>\n",
       "      <td>33</td>\n",
       "      <td>Absolutely wonderful - silky and sexy and comf...</td>\n",
       "      <td>4</td>\n",
       "      <td>1</td>\n",
       "      <td>0</td>\n",
       "      <td>Initmates</td>\n",
       "      <td>Intimate</td>\n",
       "      <td>Intimates</td>\n",
       "      <td>Absolutely wonderful - silky and sexy and com...</td>\n",
       "      <td>absolutely wonderful - silky and sexy and comf...</td>\n",
       "      <td>1</td>\n",
       "      <td>absolutely wonderful - silky and sexy and com...</td>\n",
       "    </tr>\n",
       "    <tr>\n",
       "      <td>1</td>\n",
       "      <td>34</td>\n",
       "      <td>Love this dress!  it's sooo pretty.  i happene...</td>\n",
       "      <td>5</td>\n",
       "      <td>1</td>\n",
       "      <td>4</td>\n",
       "      <td>General</td>\n",
       "      <td>Dresses</td>\n",
       "      <td>Dresses</td>\n",
       "      <td>Love this dress!  it's sooo pretty.  i happen...</td>\n",
       "      <td>this !  it's sooo pretty.  i happened to find...</td>\n",
       "      <td>5</td>\n",
       "      <td>this !  it's sooo pretty.  i happened to fin...</td>\n",
       "    </tr>\n",
       "    <tr>\n",
       "      <td>2</td>\n",
       "      <td>60</td>\n",
       "      <td>I had such high hopes for this dress and reall...</td>\n",
       "      <td>3</td>\n",
       "      <td>0</td>\n",
       "      <td>0</td>\n",
       "      <td>General</td>\n",
       "      <td>Dresses</td>\n",
       "      <td>Dresses</td>\n",
       "      <td>Some major design flaws I had such high hopes ...</td>\n",
       "      <td>i had such high hopes for this  and really wan...</td>\n",
       "      <td>1</td>\n",
       "      <td>some major design flaws i had such high hopes ...</td>\n",
       "    </tr>\n",
       "    <tr>\n",
       "      <td>3</td>\n",
       "      <td>50</td>\n",
       "      <td>I love, love, love this jumpsuit. it's fun, fl...</td>\n",
       "      <td>5</td>\n",
       "      <td>1</td>\n",
       "      <td>0</td>\n",
       "      <td>General Petite</td>\n",
       "      <td>Bottoms</td>\n",
       "      <td>Pants</td>\n",
       "      <td>My favorite buy! I love, love, love this jumps...</td>\n",
       "      <td>i , ,  this jumpsuit. it's fun, flirty, and fa...</td>\n",
       "      <td>5</td>\n",
       "      <td>my favorite buy! i , ,  this jumpsuit. it's fu...</td>\n",
       "    </tr>\n",
       "    <tr>\n",
       "      <td>4</td>\n",
       "      <td>47</td>\n",
       "      <td>This shirt is very flattering to all due to th...</td>\n",
       "      <td>5</td>\n",
       "      <td>1</td>\n",
       "      <td>6</td>\n",
       "      <td>General</td>\n",
       "      <td>Tops</td>\n",
       "      <td>Blouses</td>\n",
       "      <td>Flattering shirt This shirt is very flattering...</td>\n",
       "      <td>this shirt is very flattering to all due to th...</td>\n",
       "      <td>5</td>\n",
       "      <td>flattering shirt this shirt is very flattering...</td>\n",
       "    </tr>\n",
       "  </tbody>\n",
       "</table>\n",
       "</div>"
      ],
      "text/plain": [
       "   Age                                         ReviewText  Rating  \\\n",
       "0   33  Absolutely wonderful - silky and sexy and comf...       4   \n",
       "1   34  Love this dress!  it's sooo pretty.  i happene...       5   \n",
       "2   60  I had such high hopes for this dress and reall...       3   \n",
       "3   50  I love, love, love this jumpsuit. it's fun, fl...       5   \n",
       "4   47  This shirt is very flattering to all due to th...       5   \n",
       "\n",
       "   RecommendedIND  PositiveFeedbackCount    DivisionName DepartmentName  \\\n",
       "0               1                      0       Initmates       Intimate   \n",
       "1               1                      4         General        Dresses   \n",
       "2               0                      0         General        Dresses   \n",
       "3               1                      0  General Petite        Bottoms   \n",
       "4               1                      6         General           Tops   \n",
       "\n",
       "   ClassName                                       CombinedText  \\\n",
       "0  Intimates   Absolutely wonderful - silky and sexy and com...   \n",
       "1    Dresses   Love this dress!  it's sooo pretty.  i happen...   \n",
       "2    Dresses  Some major design flaws I had such high hopes ...   \n",
       "3      Pants  My favorite buy! I love, love, love this jumps...   \n",
       "4    Blouses  Flattering shirt This shirt is very flattering...   \n",
       "\n",
       "                                     ReviewTextLower  ModifiedRating  \\\n",
       "0  absolutely wonderful - silky and sexy and comf...               1   \n",
       "1   this !  it's sooo pretty.  i happened to find...               5   \n",
       "2  i had such high hopes for this  and really wan...               1   \n",
       "3  i , ,  this jumpsuit. it's fun, flirty, and fa...               5   \n",
       "4  this shirt is very flattering to all due to th...               5   \n",
       "\n",
       "                                   CombinedTextLower  \n",
       "0   absolutely wonderful - silky and sexy and com...  \n",
       "1    this !  it's sooo pretty.  i happened to fin...  \n",
       "2  some major design flaws i had such high hopes ...  \n",
       "3  my favorite buy! i , ,  this jumpsuit. it's fu...  \n",
       "4  flattering shirt this shirt is very flattering...  "
      ]
     },
     "execution_count": 211,
     "metadata": {},
     "output_type": "execute_result"
    }
   ],
   "source": [
    "df.head()"
   ]
  },
  {
   "cell_type": "code",
   "execution_count": 212,
   "metadata": {},
   "outputs": [],
   "source": [
    "#rating_class = df[(df['Rating'] == 1) | (df['Rating'] == 5)]\n",
    "X = df.CombinedTextLower\n",
    "y = df.RecommendedIND"
   ]
  },
  {
   "cell_type": "code",
   "execution_count": 213,
   "metadata": {},
   "outputs": [],
   "source": [
    "count_vectorizer = CountVectorizer(ngram_range=(1, 2),  \n",
    "                                   stop_words='english', \n",
    "                                   token_pattern=\"\\\\b[a-z][a-z]+\\\\b\",\n",
    "                                   lowercase=True,\n",
    "                                   max_df = 0.6)\n",
    "tfidf_vectorizer = TfidfVectorizer(ngram_range=(1, 2),  \n",
    "                                   stop_words='english', \n",
    "                                   token_pattern=\"\\\\b[a-z][a-z]+\\\\b\",\n",
    "                                   lowercase=True,\n",
    "                                   max_df = 0.6)\n",
    "\n",
    "cv_data = count_vectorizer.fit_transform(X)\n",
    "tfidf_data = tfidf_vectorizer.fit_transform(X)"
   ]
  },
  {
   "cell_type": "code",
   "execution_count": 214,
   "metadata": {},
   "outputs": [
    {
     "data": {
      "text/plain": [
       "267875"
      ]
     },
     "execution_count": 214,
     "metadata": {},
     "output_type": "execute_result"
    }
   ],
   "source": [
    "len(count_vectorizer.vocabulary_)"
   ]
  },
  {
   "cell_type": "code",
   "execution_count": 215,
   "metadata": {},
   "outputs": [],
   "source": [
    "X_train, X_test, y_train, y_test = train_test_split(cv_data, y, test_size=0.3, random_state=42, stratify=y)"
   ]
  },
  {
   "cell_type": "code",
   "execution_count": 216,
   "metadata": {},
   "outputs": [],
   "source": [
    "# using SMOTE to oversample\n",
    "X_train_smoted, y_train_smoted = SMOTE(random_state=42).fit_sample(X_train,y_train)"
   ]
  },
  {
   "cell_type": "code",
   "execution_count": 217,
   "metadata": {},
   "outputs": [
    {
     "name": "stdout",
     "output_type": "stream",
     "text": [
      "Counter({1: 12968, 0: 12968})\n"
     ]
    }
   ],
   "source": [
    "print(Counter(y_train_smoted))"
   ]
  },
  {
   "cell_type": "code",
   "execution_count": 218,
   "metadata": {},
   "outputs": [
    {
     "data": {
      "text/plain": [
       "MultinomialNB(alpha=1.0, class_prior=None, fit_prior=True)"
      ]
     },
     "execution_count": 218,
     "metadata": {},
     "output_type": "execute_result"
    }
   ],
   "source": [
    "nb = MultinomialNB()\n",
    "nb.fit(X_train_smoted, y_train_smoted)"
   ]
  },
  {
   "cell_type": "code",
   "execution_count": 219,
   "metadata": {},
   "outputs": [],
   "source": [
    "y_pred = nb.predict(X_test)"
   ]
  },
  {
   "cell_type": "code",
   "execution_count": 220,
   "metadata": {},
   "outputs": [
    {
     "name": "stdout",
     "output_type": "stream",
     "text": [
      "[[ 753  477]\n",
      " [ 263 5296]]\n",
      "\n",
      "\n",
      "              precision    recall  f1-score   support\n",
      "\n",
      "           0       0.74      0.61      0.67      1230\n",
      "           1       0.92      0.95      0.93      5559\n",
      "\n",
      "    accuracy                           0.89      6789\n",
      "   macro avg       0.83      0.78      0.80      6789\n",
      "weighted avg       0.89      0.89      0.89      6789\n",
      "\n"
     ]
    }
   ],
   "source": [
    "print(confusion_matrix(y_test, y_pred))\n",
    "print('\\n')\n",
    "print(classification_report(y_test, y_pred))"
   ]
  },
  {
   "cell_type": "code",
   "execution_count": 221,
   "metadata": {},
   "outputs": [
    {
     "name": "stderr",
     "output_type": "stream",
     "text": [
      "/usr/local/lib64/python3.6/site-packages/sklearn/linear_model/logistic.py:432: FutureWarning: Default solver will be changed to 'lbfgs' in 0.22. Specify a solver to silence this warning.\n",
      "  FutureWarning)\n"
     ]
    },
    {
     "data": {
      "text/plain": [
       "LogisticRegression(C=1.0, class_weight=None, dual=False, fit_intercept=True,\n",
       "                   intercept_scaling=1, l1_ratio=None, max_iter=100,\n",
       "                   multi_class='warn', n_jobs=None, penalty='l2',\n",
       "                   random_state=None, solver='warn', tol=0.0001, verbose=0,\n",
       "                   warm_start=False)"
      ]
     },
     "execution_count": 221,
     "metadata": {},
     "output_type": "execute_result"
    }
   ],
   "source": [
    "logit = LogisticRegression()\n",
    "logit.fit(X_train_smoted, y_train_smoted)"
   ]
  },
  {
   "cell_type": "code",
   "execution_count": 222,
   "metadata": {},
   "outputs": [],
   "source": [
    "y_pred = logit.predict(X_test)"
   ]
  },
  {
   "cell_type": "code",
   "execution_count": 223,
   "metadata": {},
   "outputs": [
    {
     "name": "stdout",
     "output_type": "stream",
     "text": [
      "[[ 831  399]\n",
      " [ 490 5069]]\n",
      "\n",
      "\n",
      "              precision    recall  f1-score   support\n",
      "\n",
      "           0       0.63      0.68      0.65      1230\n",
      "           1       0.93      0.91      0.92      5559\n",
      "\n",
      "    accuracy                           0.87      6789\n",
      "   macro avg       0.78      0.79      0.79      6789\n",
      "weighted avg       0.87      0.87      0.87      6789\n",
      "\n"
     ]
    }
   ],
   "source": [
    "print(confusion_matrix(y_test, y_pred))\n",
    "print('\\n')\n",
    "print(classification_report(y_test, y_pred))"
   ]
  },
  {
   "cell_type": "code",
   "execution_count": 224,
   "metadata": {},
   "outputs": [
    {
     "data": {
      "text/plain": [
       "'  this !  it\\'s sooo pretty.  i happened to find it in a store, and i\\'m glad i did bc i never would have ordered it online bc it\\'s petite.  i bought a petite and am 5\\'8\".  i  the length on me- hits just a little below the knee.  would definitely be a true midi on someone who is truly petite.'"
      ]
     },
     "execution_count": 224,
     "metadata": {},
     "output_type": "execute_result"
    }
   ],
   "source": [
    "positive_example = df['CombinedTextLower'][1]\n",
    "positive_example"
   ]
  },
  {
   "cell_type": "code",
   "execution_count": 226,
   "metadata": {},
   "outputs": [
    {
     "data": {
      "text/plain": [
       "1"
      ]
     },
     "execution_count": 226,
     "metadata": {},
     "output_type": "execute_result"
    }
   ],
   "source": [
    "positive_example_vec = count_vectorizer.transform([positive_example])\n",
    "logit.predict(positive_example_vec)[0]"
   ]
  },
  {
   "cell_type": "code",
   "execution_count": 229,
   "metadata": {},
   "outputs": [
    {
     "data": {
      "text/html": [
       "<div>\n",
       "<style scoped>\n",
       "    .dataframe tbody tr th:only-of-type {\n",
       "        vertical-align: middle;\n",
       "    }\n",
       "\n",
       "    .dataframe tbody tr th {\n",
       "        vertical-align: top;\n",
       "    }\n",
       "\n",
       "    .dataframe thead th {\n",
       "        text-align: right;\n",
       "    }\n",
       "</style>\n",
       "<table border=\"1\" class=\"dataframe\">\n",
       "  <thead>\n",
       "    <tr style=\"text-align: right;\">\n",
       "      <th></th>\n",
       "      <th>Age</th>\n",
       "      <th>ReviewText</th>\n",
       "      <th>Rating</th>\n",
       "      <th>RecommendedIND</th>\n",
       "      <th>PositiveFeedbackCount</th>\n",
       "      <th>DivisionName</th>\n",
       "      <th>DepartmentName</th>\n",
       "      <th>ClassName</th>\n",
       "      <th>CombinedText</th>\n",
       "      <th>ReviewTextLower</th>\n",
       "      <th>ModifiedRating</th>\n",
       "      <th>CombinedTextLower</th>\n",
       "    </tr>\n",
       "  </thead>\n",
       "  <tbody>\n",
       "    <tr>\n",
       "      <td>0</td>\n",
       "      <td>33</td>\n",
       "      <td>Absolutely wonderful - silky and sexy and comf...</td>\n",
       "      <td>4</td>\n",
       "      <td>1</td>\n",
       "      <td>0</td>\n",
       "      <td>Initmates</td>\n",
       "      <td>Intimate</td>\n",
       "      <td>Intimates</td>\n",
       "      <td>Absolutely wonderful - silky and sexy and com...</td>\n",
       "      <td>absolutely wonderful - silky and sexy and comf...</td>\n",
       "      <td>1</td>\n",
       "      <td>absolutely wonderful - silky and sexy and com...</td>\n",
       "    </tr>\n",
       "    <tr>\n",
       "      <td>1</td>\n",
       "      <td>34</td>\n",
       "      <td>Love this dress!  it's sooo pretty.  i happene...</td>\n",
       "      <td>5</td>\n",
       "      <td>1</td>\n",
       "      <td>4</td>\n",
       "      <td>General</td>\n",
       "      <td>Dresses</td>\n",
       "      <td>Dresses</td>\n",
       "      <td>Love this dress!  it's sooo pretty.  i happen...</td>\n",
       "      <td>this !  it's sooo pretty.  i happened to find...</td>\n",
       "      <td>5</td>\n",
       "      <td>this !  it's sooo pretty.  i happened to fin...</td>\n",
       "    </tr>\n",
       "    <tr>\n",
       "      <td>2</td>\n",
       "      <td>60</td>\n",
       "      <td>I had such high hopes for this dress and reall...</td>\n",
       "      <td>3</td>\n",
       "      <td>0</td>\n",
       "      <td>0</td>\n",
       "      <td>General</td>\n",
       "      <td>Dresses</td>\n",
       "      <td>Dresses</td>\n",
       "      <td>Some major design flaws I had such high hopes ...</td>\n",
       "      <td>i had such high hopes for this  and really wan...</td>\n",
       "      <td>1</td>\n",
       "      <td>some major design flaws i had such high hopes ...</td>\n",
       "    </tr>\n",
       "    <tr>\n",
       "      <td>3</td>\n",
       "      <td>50</td>\n",
       "      <td>I love, love, love this jumpsuit. it's fun, fl...</td>\n",
       "      <td>5</td>\n",
       "      <td>1</td>\n",
       "      <td>0</td>\n",
       "      <td>General Petite</td>\n",
       "      <td>Bottoms</td>\n",
       "      <td>Pants</td>\n",
       "      <td>My favorite buy! I love, love, love this jumps...</td>\n",
       "      <td>i , ,  this jumpsuit. it's fun, flirty, and fa...</td>\n",
       "      <td>5</td>\n",
       "      <td>my favorite buy! i , ,  this jumpsuit. it's fu...</td>\n",
       "    </tr>\n",
       "    <tr>\n",
       "      <td>4</td>\n",
       "      <td>47</td>\n",
       "      <td>This shirt is very flattering to all due to th...</td>\n",
       "      <td>5</td>\n",
       "      <td>1</td>\n",
       "      <td>6</td>\n",
       "      <td>General</td>\n",
       "      <td>Tops</td>\n",
       "      <td>Blouses</td>\n",
       "      <td>Flattering shirt This shirt is very flattering...</td>\n",
       "      <td>this shirt is very flattering to all due to th...</td>\n",
       "      <td>5</td>\n",
       "      <td>flattering shirt this shirt is very flattering...</td>\n",
       "    </tr>\n",
       "  </tbody>\n",
       "</table>\n",
       "</div>"
      ],
      "text/plain": [
       "   Age                                         ReviewText  Rating  \\\n",
       "0   33  Absolutely wonderful - silky and sexy and comf...       4   \n",
       "1   34  Love this dress!  it's sooo pretty.  i happene...       5   \n",
       "2   60  I had such high hopes for this dress and reall...       3   \n",
       "3   50  I love, love, love this jumpsuit. it's fun, fl...       5   \n",
       "4   47  This shirt is very flattering to all due to th...       5   \n",
       "\n",
       "   RecommendedIND  PositiveFeedbackCount    DivisionName DepartmentName  \\\n",
       "0               1                      0       Initmates       Intimate   \n",
       "1               1                      4         General        Dresses   \n",
       "2               0                      0         General        Dresses   \n",
       "3               1                      0  General Petite        Bottoms   \n",
       "4               1                      6         General           Tops   \n",
       "\n",
       "   ClassName                                       CombinedText  \\\n",
       "0  Intimates   Absolutely wonderful - silky and sexy and com...   \n",
       "1    Dresses   Love this dress!  it's sooo pretty.  i happen...   \n",
       "2    Dresses  Some major design flaws I had such high hopes ...   \n",
       "3      Pants  My favorite buy! I love, love, love this jumps...   \n",
       "4    Blouses  Flattering shirt This shirt is very flattering...   \n",
       "\n",
       "                                     ReviewTextLower  ModifiedRating  \\\n",
       "0  absolutely wonderful - silky and sexy and comf...               1   \n",
       "1   this !  it's sooo pretty.  i happened to find...               5   \n",
       "2  i had such high hopes for this  and really wan...               1   \n",
       "3  i , ,  this jumpsuit. it's fun, flirty, and fa...               5   \n",
       "4  this shirt is very flattering to all due to th...               5   \n",
       "\n",
       "                                   CombinedTextLower  \n",
       "0   absolutely wonderful - silky and sexy and com...  \n",
       "1    this !  it's sooo pretty.  i happened to fin...  \n",
       "2  some major design flaws i had such high hopes ...  \n",
       "3  my favorite buy! i , ,  this jumpsuit. it's fu...  \n",
       "4  flattering shirt this shirt is very flattering...  "
      ]
     },
     "execution_count": 229,
     "metadata": {},
     "output_type": "execute_result"
    }
   ],
   "source": [
    "df.head()"
   ]
  },
  {
   "cell_type": "code",
   "execution_count": 230,
   "metadata": {},
   "outputs": [
    {
     "data": {
      "text/plain": [
       "'some major design flaws i had such high hopes for this  and really wanted it to work for me. i initially ordered the petite small (my usual size) but i found this to be outrageously small. so small in fact that i could not  it up! i reordered it in petite medium, which was just ok. overall, the top half was comfortable and  nicely, but the bottom half had a very tight under layer and several somewhat cheap (net) over layers. imo, a major design flaw was the net over layer sewn directly into the  - it c'"
      ]
     },
     "execution_count": 230,
     "metadata": {},
     "output_type": "execute_result"
    }
   ],
   "source": [
    "negative_example = df['CombinedTextLower'][2]\n",
    "negative_example"
   ]
  },
  {
   "cell_type": "code",
   "execution_count": 232,
   "metadata": {},
   "outputs": [
    {
     "data": {
      "text/plain": [
       "0"
      ]
     },
     "execution_count": 232,
     "metadata": {},
     "output_type": "execute_result"
    }
   ],
   "source": [
    "negative_example_vec = tfidf_vectorizer.transform([negative_example])\n",
    "logit.predict(negative_example_vec)[0]"
   ]
  },
  {
   "cell_type": "markdown",
   "metadata": {},
   "source": [
    "### Try Topic Modelings"
   ]
  },
  {
   "cell_type": "code",
   "execution_count": 14,
   "metadata": {},
   "outputs": [],
   "source": [
    "# def functions for topic modelings\n",
    "def display_topics(model, feature_names, no_top_words, topic_names=None):\n",
    "    for ix, topic in enumerate(model.components_):\n",
    "        if not topic_names or not topic_names[ix]:\n",
    "            print(\"\\nTopic \", ix)\n",
    "        else:\n",
    "            print(\"\\nTopic: '\",topic_names[ix],\"'\")\n",
    "        print(\", \".join([feature_names[i]\n",
    "                        for i in topic.argsort()[:-no_top_words - 1:-1]]))\n",
    "        \n",
    "def display_topics2(model, feature_names, no_top_words=10, topic_names = None):\n",
    "    for index, topic in enumerate(model.components_):\n",
    "        if not topic_names or not topic_names[index]:\n",
    "            print(f\"\\nTopic {index}\")\n",
    "        else:\n",
    "            print(f\"\\nTopic {topic_names[index]}:\")\n",
    "        msg = \", \".join([f'{feature_names[i]} ({topic[i]:6.4f})' \n",
    "                             for i in topic.argsort()[:-no_top_words-1:-1]])\n",
    "        print(msg)"
   ]
  },
  {
   "cell_type": "code",
   "execution_count": 56,
   "metadata": {},
   "outputs": [],
   "source": [
    "# try using 50 dimensions\n",
    "n_comp = 50\n",
    "lsa_tfidf = TruncatedSVD(n_components=n_comp)\n",
    "lsa_cv = TruncatedSVD(n_components=n_comp)\n",
    "nmf_tfidf = NMF(n_components=n_comp)\n",
    "nmf_cv = NMF(n_components=n_comp)\n",
    "\n",
    "lsa_tfidf_data = lsa_tfidf.fit_transform(tfidf_data)\n",
    "lsa_cv_data = lsa_cv.fit_transform(cv_data)\n",
    "nmf_tfidf_data = nmf_tfidf.fit_transform(tfidf_data)\n",
    "nmf_cv_data = nmf_cv.fit_transform(cv_data)"
   ]
  },
  {
   "cell_type": "code",
   "execution_count": null,
   "metadata": {},
   "outputs": [],
   "source": [
    "### Count Vectorizer performs good for recommendation engine"
   ]
  }
 ],
 "metadata": {
  "kernelspec": {
   "display_name": "Python 3",
   "language": "python",
   "name": "python3"
  },
  "language_info": {
   "codemirror_mode": {
    "name": "ipython",
    "version": 3
   },
   "file_extension": ".py",
   "mimetype": "text/x-python",
   "name": "python",
   "nbconvert_exporter": "python",
   "pygments_lexer": "ipython3",
   "version": "3.7.5"
  }
 },
 "nbformat": 4,
 "nbformat_minor": 2
}
